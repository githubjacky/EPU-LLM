{
 "cells": [
  {
   "cell_type": "code",
   "execution_count": 1,
   "id": "a1bbbd39",
   "metadata": {},
   "outputs": [],
   "source": [
    "import os\n",
    "os.chdir(\"../\")\n",
    "\n",
    "from src.utils import Prompt, EPUClassifier, Param"
   ]
  },
  {
   "cell_type": "code",
   "execution_count": 2,
   "id": "a45dea7b",
   "metadata": {},
   "outputs": [],
   "source": [
    "param = Param()\n",
    "\n",
    "prompt = Prompt(\n",
    "    param.country,\n",
    "    param.system_message_template,\n",
    "    param.question,\n",
    "    param.examples\n",
    ")\n",
    "\n",
    "clf = EPUClassifier(\n",
    "    prompt,\n",
    "    param.model,\n",
    "    param.temperature,\n",
    "    param.batch_size\n",
    ")"
   ]
  },
  {
   "cell_type": "code",
   "execution_count": 3,
   "id": "0162c66e",
   "metadata": {},
   "outputs": [
    {
     "data": {
      "text/plain": [
       "7075"
      ]
     },
     "execution_count": 3,
     "metadata": {},
     "output_type": "execute_result"
    }
   ],
   "source": [
    "import json\n",
    "from pathlib import Path\n",
    "\n",
    "data = json.loads(Path('./data/EPU_Noise_Test.json').read_text())\n",
    "len(data)"
   ]
  },
  {
   "cell_type": "code",
   "execution_count": 24,
   "id": "32a4d781",
   "metadata": {},
   "outputs": [
    {
     "name": "stderr",
     "output_type": "stream",
     "text": [
      "100%|███████████████████████████████████████████████████████████████████████████| 3/3 [00:05<00:00,  1.71s/it]"
     ]
    },
    {
     "name": "stdout",
     "output_type": "stream",
     "text": [
      "              precision    recall  f1-score   support\n",
      "\n",
      "           0       0.00      1.00      0.00         0\n",
      "           1       1.00      0.67      0.80         3\n",
      "\n",
      "    accuracy                           0.67         3\n",
      "   macro avg       0.50      0.83      0.40         3\n",
      "weighted avg       1.00      0.67      0.80         3\n",
      "\n"
     ]
    },
    {
     "name": "stderr",
     "output_type": "stream",
     "text": [
      "\n"
     ]
    }
   ],
   "source": [
    "clf.preprocess(data[0:3])\n",
    "clf.predict()"
   ]
  },
  {
   "cell_type": "code",
   "execution_count": 12,
   "id": "4a5d00c3",
   "metadata": {},
   "outputs": [
    {
     "data": {
      "text/plain": [
       "2943"
      ]
     },
     "execution_count": 12,
     "metadata": {},
     "output_type": "execute_result"
    }
   ],
   "source": [
    "len(data[122]['article'])"
   ]
  },
  {
   "cell_type": "code",
   "execution_count": 3,
   "id": "a3dbbf5d",
   "metadata": {},
   "outputs": [
    {
     "data": {
      "text/plain": [
       "25"
      ]
     },
     "execution_count": 3,
     "metadata": {},
     "output_type": "execute_result"
    }
   ],
   "source": [
    "import json\n",
    "from pathlib import Path\n",
    "data = json.loads(Path('./data/EPU_Noise_Examples.json').read_text())\n",
    "len(data)"
   ]
  },
  {
   "cell_type": "code",
   "execution_count": 4,
   "id": "8ab0cfb0",
   "metadata": {},
   "outputs": [],
   "source": [
    "clf = EPUClassifier(\n",
    "    prompt,\n",
    "    param.model,\n",
    "    0.,\n",
    "    param.batch_size\n",
    ")\n",
    "\n",
    "clf.preprocess(data[17:18])"
   ]
  },
  {
   "cell_type": "code",
   "execution_count": 5,
   "id": "e76df4b5",
   "metadata": {},
   "outputs": [
    {
     "name": "stderr",
     "output_type": "stream",
     "text": [
      "  0%|                                                                                   | 0/1 [00:00<?, ?it/s]\n"
     ]
    },
    {
     "ename": "KeyError",
     "evalue": "\"'pred'\"",
     "output_type": "error",
     "traceback": [
      "\u001b[0;31m---------------------------------------------------------------------------\u001b[0m",
      "\u001b[0;31mKeyError\u001b[0m                                  Traceback (most recent call last)",
      "Cell \u001b[0;32mIn[5], line 1\u001b[0m\n\u001b[0;32m----> 1\u001b[0m \u001b[43mclf\u001b[49m\u001b[38;5;241;43m.\u001b[39;49m\u001b[43mpredict\u001b[49m\u001b[43m(\u001b[49m\u001b[43m)\u001b[49m\n",
      "File \u001b[0;32m~/Documents/project/EPU_denoise/src/utils.py:127\u001b[0m, in \u001b[0;36mEPUClassifier.predict\u001b[0;34m(self)\u001b[0m\n\u001b[1;32m    125\u001b[0m \u001b[38;5;28;01melse\u001b[39;00m:\n\u001b[1;32m    126\u001b[0m     \u001b[38;5;28;01mfor\u001b[39;00m i \u001b[38;5;129;01min\u001b[39;00m trange(n):\n\u001b[0;32m--> 127\u001b[0m         predictions\u001b[38;5;241m.\u001b[39mappend(\u001b[38;5;28;43mself\u001b[39;49m\u001b[38;5;241;43m.\u001b[39;49m\u001b[43mpredict_instance\u001b[49m\u001b[43m(\u001b[49m\u001b[38;5;28;43mself\u001b[39;49m\u001b[38;5;241;43m.\u001b[39;49m\u001b[43mdata\u001b[49m\u001b[43m[\u001b[49m\u001b[43mi\u001b[49m\u001b[43m]\u001b[49m\u001b[43m[\u001b[49m\u001b[38;5;124;43m'\u001b[39;49m\u001b[38;5;124;43marticle\u001b[39;49m\u001b[38;5;124;43m'\u001b[39;49m\u001b[43m]\u001b[49m\u001b[43m)\u001b[49m)\n\u001b[1;32m    129\u001b[0m preds \u001b[38;5;241m=\u001b[39m [i\u001b[38;5;241m.\u001b[39mpred \u001b[38;5;28;01mfor\u001b[39;00m i \u001b[38;5;129;01min\u001b[39;00m predictions]\n\u001b[1;32m    130\u001b[0m labels \u001b[38;5;241m=\u001b[39m [i[\u001b[38;5;124m'\u001b[39m\u001b[38;5;124mlabel\u001b[39m\u001b[38;5;124m'\u001b[39m] \u001b[38;5;28;01mfor\u001b[39;00m i \u001b[38;5;129;01min\u001b[39;00m \u001b[38;5;28mself\u001b[39m\u001b[38;5;241m.\u001b[39mdata]\n",
      "File \u001b[0;32m~/Documents/project/EPU_denoise/src/utils.py:89\u001b[0m, in \u001b[0;36mEPUClassifier.predict_instance\u001b[0;34m(self, article)\u001b[0m\n\u001b[1;32m     86\u001b[0m \u001b[38;5;28;01mdef\u001b[39;00m \u001b[38;5;21mpredict_instance\u001b[39m(\u001b[38;5;28mself\u001b[39m, article: \u001b[38;5;28mstr\u001b[39m) \u001b[38;5;241m-\u001b[39m\u001b[38;5;241m>\u001b[39m ClassificationResult:\n\u001b[1;32m     87\u001b[0m     message  \u001b[38;5;241m=\u001b[39m [\n\u001b[1;32m     88\u001b[0m         \u001b[38;5;28mself\u001b[39m\u001b[38;5;241m.\u001b[39mprompt\u001b[38;5;241m.\u001b[39msystem_message,\n\u001b[0;32m---> 89\u001b[0m         HumanMessage(content \u001b[38;5;241m=\u001b[39m \u001b[38;5;28;43mself\u001b[39;49m\u001b[38;5;241;43m.\u001b[39;49m\u001b[43mprompt\u001b[49m\u001b[38;5;241;43m.\u001b[39;49m\u001b[43mfewshot_prompt\u001b[49m\u001b[38;5;241;43m.\u001b[39;49m\u001b[43mformat\u001b[49m\u001b[43m(\u001b[49m\u001b[43marticle\u001b[49m\u001b[43m \u001b[49m\u001b[38;5;241;43m=\u001b[39;49m\u001b[43m \u001b[49m\u001b[43marticle\u001b[49m\u001b[43m)\u001b[49m)\n\u001b[1;32m     90\u001b[0m     ]\n\u001b[1;32m     91\u001b[0m     response \u001b[38;5;241m=\u001b[39m \u001b[38;5;28mself\u001b[39m\u001b[38;5;241m.\u001b[39mchat(message)\n\u001b[1;32m     93\u001b[0m     \u001b[38;5;28;01mreturn\u001b[39;00m \u001b[38;5;28mself\u001b[39m\u001b[38;5;241m.\u001b[39mprompt\u001b[38;5;241m.\u001b[39mparser\u001b[38;5;241m.\u001b[39mparse(response\u001b[38;5;241m.\u001b[39mcontent)\n",
      "File \u001b[0;32m~/mambaforge/envs/EPU_denoise/lib/python3.11/site-packages/langchain/prompts/few_shot.py:119\u001b[0m, in \u001b[0;36mFewShotPromptTemplate.format\u001b[0;34m(self, **kwargs)\u001b[0m\n\u001b[1;32m    116\u001b[0m template \u001b[38;5;241m=\u001b[39m \u001b[38;5;28mself\u001b[39m\u001b[38;5;241m.\u001b[39mexample_separator\u001b[38;5;241m.\u001b[39mjoin([piece \u001b[38;5;28;01mfor\u001b[39;00m piece \u001b[38;5;129;01min\u001b[39;00m pieces \u001b[38;5;28;01mif\u001b[39;00m piece])\n\u001b[1;32m    118\u001b[0m \u001b[38;5;66;03m# Format the template with the input variables.\u001b[39;00m\n\u001b[0;32m--> 119\u001b[0m \u001b[38;5;28;01mreturn\u001b[39;00m \u001b[43mDEFAULT_FORMATTER_MAPPING\u001b[49m\u001b[43m[\u001b[49m\u001b[38;5;28;43mself\u001b[39;49m\u001b[38;5;241;43m.\u001b[39;49m\u001b[43mtemplate_format\u001b[49m\u001b[43m]\u001b[49m\u001b[43m(\u001b[49m\u001b[43mtemplate\u001b[49m\u001b[43m,\u001b[49m\u001b[43m \u001b[49m\u001b[38;5;241;43m*\u001b[39;49m\u001b[38;5;241;43m*\u001b[39;49m\u001b[43mkwargs\u001b[49m\u001b[43m)\u001b[49m\n",
      "File \u001b[0;32m~/mambaforge/envs/EPU_denoise/lib/python3.11/string.py:190\u001b[0m, in \u001b[0;36mFormatter.format\u001b[0;34m(self, format_string, *args, **kwargs)\u001b[0m\n\u001b[1;32m    189\u001b[0m \u001b[38;5;28;01mdef\u001b[39;00m \u001b[38;5;21mformat\u001b[39m(\u001b[38;5;28mself\u001b[39m, format_string, \u001b[38;5;241m/\u001b[39m, \u001b[38;5;241m*\u001b[39margs, \u001b[38;5;241m*\u001b[39m\u001b[38;5;241m*\u001b[39mkwargs):\n\u001b[0;32m--> 190\u001b[0m     \u001b[38;5;28;01mreturn\u001b[39;00m \u001b[38;5;28;43mself\u001b[39;49m\u001b[38;5;241;43m.\u001b[39;49m\u001b[43mvformat\u001b[49m\u001b[43m(\u001b[49m\u001b[43mformat_string\u001b[49m\u001b[43m,\u001b[49m\u001b[43m \u001b[49m\u001b[43margs\u001b[49m\u001b[43m,\u001b[49m\u001b[43m \u001b[49m\u001b[43mkwargs\u001b[49m\u001b[43m)\u001b[49m\n",
      "File \u001b[0;32m~/mambaforge/envs/EPU_denoise/lib/python3.11/site-packages/langchain/formatting.py:29\u001b[0m, in \u001b[0;36mStrictFormatter.vformat\u001b[0;34m(self, format_string, args, kwargs)\u001b[0m\n\u001b[1;32m     24\u001b[0m \u001b[38;5;28;01mif\u001b[39;00m \u001b[38;5;28mlen\u001b[39m(args) \u001b[38;5;241m>\u001b[39m \u001b[38;5;241m0\u001b[39m:\n\u001b[1;32m     25\u001b[0m     \u001b[38;5;28;01mraise\u001b[39;00m \u001b[38;5;167;01mValueError\u001b[39;00m(\n\u001b[1;32m     26\u001b[0m         \u001b[38;5;124m\"\u001b[39m\u001b[38;5;124mNo arguments should be provided, \u001b[39m\u001b[38;5;124m\"\u001b[39m\n\u001b[1;32m     27\u001b[0m         \u001b[38;5;124m\"\u001b[39m\u001b[38;5;124meverything should be passed as keyword arguments.\u001b[39m\u001b[38;5;124m\"\u001b[39m\n\u001b[1;32m     28\u001b[0m     )\n\u001b[0;32m---> 29\u001b[0m \u001b[38;5;28;01mreturn\u001b[39;00m \u001b[38;5;28;43msuper\u001b[39;49m\u001b[43m(\u001b[49m\u001b[43m)\u001b[49m\u001b[38;5;241;43m.\u001b[39;49m\u001b[43mvformat\u001b[49m\u001b[43m(\u001b[49m\u001b[43mformat_string\u001b[49m\u001b[43m,\u001b[49m\u001b[43m \u001b[49m\u001b[43margs\u001b[49m\u001b[43m,\u001b[49m\u001b[43m \u001b[49m\u001b[43mkwargs\u001b[49m\u001b[43m)\u001b[49m\n",
      "File \u001b[0;32m~/mambaforge/envs/EPU_denoise/lib/python3.11/string.py:194\u001b[0m, in \u001b[0;36mFormatter.vformat\u001b[0;34m(self, format_string, args, kwargs)\u001b[0m\n\u001b[1;32m    192\u001b[0m \u001b[38;5;28;01mdef\u001b[39;00m \u001b[38;5;21mvformat\u001b[39m(\u001b[38;5;28mself\u001b[39m, format_string, args, kwargs):\n\u001b[1;32m    193\u001b[0m     used_args \u001b[38;5;241m=\u001b[39m \u001b[38;5;28mset\u001b[39m()\n\u001b[0;32m--> 194\u001b[0m     result, _ \u001b[38;5;241m=\u001b[39m \u001b[38;5;28;43mself\u001b[39;49m\u001b[38;5;241;43m.\u001b[39;49m\u001b[43m_vformat\u001b[49m\u001b[43m(\u001b[49m\u001b[43mformat_string\u001b[49m\u001b[43m,\u001b[49m\u001b[43m \u001b[49m\u001b[43margs\u001b[49m\u001b[43m,\u001b[49m\u001b[43m \u001b[49m\u001b[43mkwargs\u001b[49m\u001b[43m,\u001b[49m\u001b[43m \u001b[49m\u001b[43mused_args\u001b[49m\u001b[43m,\u001b[49m\u001b[43m \u001b[49m\u001b[38;5;241;43m2\u001b[39;49m\u001b[43m)\u001b[49m\n\u001b[1;32m    195\u001b[0m     \u001b[38;5;28mself\u001b[39m\u001b[38;5;241m.\u001b[39mcheck_unused_args(used_args, args, kwargs)\n\u001b[1;32m    196\u001b[0m     \u001b[38;5;28;01mreturn\u001b[39;00m result\n",
      "File \u001b[0;32m~/mambaforge/envs/EPU_denoise/lib/python3.11/string.py:234\u001b[0m, in \u001b[0;36mFormatter._vformat\u001b[0;34m(self, format_string, args, kwargs, used_args, recursion_depth, auto_arg_index)\u001b[0m\n\u001b[1;32m    230\u001b[0m     auto_arg_index \u001b[38;5;241m=\u001b[39m \u001b[38;5;28;01mFalse\u001b[39;00m\n\u001b[1;32m    232\u001b[0m \u001b[38;5;66;03m# given the field_name, find the object it references\u001b[39;00m\n\u001b[1;32m    233\u001b[0m \u001b[38;5;66;03m#  and the argument it came from\u001b[39;00m\n\u001b[0;32m--> 234\u001b[0m obj, arg_used \u001b[38;5;241m=\u001b[39m \u001b[38;5;28;43mself\u001b[39;49m\u001b[38;5;241;43m.\u001b[39;49m\u001b[43mget_field\u001b[49m\u001b[43m(\u001b[49m\u001b[43mfield_name\u001b[49m\u001b[43m,\u001b[49m\u001b[43m \u001b[49m\u001b[43margs\u001b[49m\u001b[43m,\u001b[49m\u001b[43m \u001b[49m\u001b[43mkwargs\u001b[49m\u001b[43m)\u001b[49m\n\u001b[1;32m    235\u001b[0m used_args\u001b[38;5;241m.\u001b[39madd(arg_used)\n\u001b[1;32m    237\u001b[0m \u001b[38;5;66;03m# do any conversion on the resulting object\u001b[39;00m\n",
      "File \u001b[0;32m~/mambaforge/envs/EPU_denoise/lib/python3.11/string.py:299\u001b[0m, in \u001b[0;36mFormatter.get_field\u001b[0;34m(self, field_name, args, kwargs)\u001b[0m\n\u001b[1;32m    296\u001b[0m \u001b[38;5;28;01mdef\u001b[39;00m \u001b[38;5;21mget_field\u001b[39m(\u001b[38;5;28mself\u001b[39m, field_name, args, kwargs):\n\u001b[1;32m    297\u001b[0m     first, rest \u001b[38;5;241m=\u001b[39m _string\u001b[38;5;241m.\u001b[39mformatter_field_name_split(field_name)\n\u001b[0;32m--> 299\u001b[0m     obj \u001b[38;5;241m=\u001b[39m \u001b[38;5;28;43mself\u001b[39;49m\u001b[38;5;241;43m.\u001b[39;49m\u001b[43mget_value\u001b[49m\u001b[43m(\u001b[49m\u001b[43mfirst\u001b[49m\u001b[43m,\u001b[49m\u001b[43m \u001b[49m\u001b[43margs\u001b[49m\u001b[43m,\u001b[49m\u001b[43m \u001b[49m\u001b[43mkwargs\u001b[49m\u001b[43m)\u001b[49m\n\u001b[1;32m    301\u001b[0m     \u001b[38;5;66;03m# loop through the rest of the field_name, doing\u001b[39;00m\n\u001b[1;32m    302\u001b[0m     \u001b[38;5;66;03m#  getattr or getitem as needed\u001b[39;00m\n\u001b[1;32m    303\u001b[0m     \u001b[38;5;28;01mfor\u001b[39;00m is_attr, i \u001b[38;5;129;01min\u001b[39;00m rest:\n",
      "File \u001b[0;32m~/mambaforge/envs/EPU_denoise/lib/python3.11/string.py:256\u001b[0m, in \u001b[0;36mFormatter.get_value\u001b[0;34m(self, key, args, kwargs)\u001b[0m\n\u001b[1;32m    254\u001b[0m     \u001b[38;5;28;01mreturn\u001b[39;00m args[key]\n\u001b[1;32m    255\u001b[0m \u001b[38;5;28;01melse\u001b[39;00m:\n\u001b[0;32m--> 256\u001b[0m     \u001b[38;5;28;01mreturn\u001b[39;00m \u001b[43mkwargs\u001b[49m\u001b[43m[\u001b[49m\u001b[43mkey\u001b[49m\u001b[43m]\u001b[49m\n",
      "\u001b[0;31mKeyError\u001b[0m: \"'pred'\""
     ]
    }
   ],
   "source": [
    "clf.predict()"
   ]
  },
  {
   "cell_type": "code",
   "execution_count": 56,
   "id": "96758670",
   "metadata": {},
   "outputs": [
    {
     "data": {
      "text/plain": [
       "[ClassificationResult(pred=1, reason='The article does not mention any economic policy uncertainty related to Taiwan.'),\n",
       " ClassificationResult(pred=1, reason=\"The article is about the earthquake in Japan and its impact on the Japanese economy. It does not directly relate to Taiwan's economic policy uncertainty.\"),\n",
       " ClassificationResult(pred=1, reason='The article does not mention any economic policy uncertainty related to Taiwan.'),\n",
       " ClassificationResult(pred=1, reason='The article does not mention any economic policy uncertainty related to Taiwan.'),\n",
       " ClassificationResult(pred=1, reason='The article does not mention any economic policy uncertainty related to Taiwan.'),\n",
       " ClassificationResult(pred=0, reason='The article discusses the policy uncertainty of Taiwan and its impact on the economy.'),\n",
       " ClassificationResult(pred=0, reason=\"The article does not mention any economic policy uncertainty or events related to Taiwan's economic environment.\"),\n",
       " ClassificationResult(pred=0, reason=\"The article discusses the potential impact of the China-Japan-Korea Free Trade Agreement (FTA) on Taiwan's economic environment. It provides insights into the economic strategies of these countries and their motivations for pursuing the FTA. Therefore, it should be included when constructing the EPU index.\")]"
      ]
     },
     "execution_count": 56,
     "metadata": {},
     "output_type": "execute_result"
    }
   ],
   "source": [
    "clf.predictions"
   ]
  },
  {
   "cell_type": "code",
   "execution_count": 47,
   "id": "15049060",
   "metadata": {},
   "outputs": [
    {
     "data": {
      "text/plain": [
       "{'article': '本周日歐巴馬總統將展開上任以來首次訪中行程。他會不會也患上「馬可波羅綜合症」？畢竟長城、紫禁城都是足以讓人傾倒的名勝。不過歐巴馬本人也是魅力無窮，特別是如果他能夠在中國的電視上自由演說的話。歐巴馬總統在中國只會停留三天，分別訪問上海和北京。他會面臨許多困難的選擇，除了要在開會和觀光取捨之外，還要在前所未有的諸多棘手議題中選擇，究竟哪些議題應列入討論的議程。氣候變化？全球金融危機？關稅戰爭、人民幣重新估值？北韓核武器？美國對台軍售？中美軍事合作？阿富汗、伊拉克撤軍？伊朗、巴基斯坦困境？之前的中美領袖峰會從來沒有面臨這麼多的議題。這證明中國的重要性日漸提升。本周的議程還會給「人權」留下多少討論空間？從一九七九年中美外交關係正常化以來，特別是在一九八九年六月四日天安門屠殺事件之後，人權就是中美峰會上的一個重要議題。但是，直到本周中國政府宣布已處決「新疆七五事件」九名被告之前，歐巴馬政府都沒有表露出太大興趣，去敦促中華人民共和國遵守其在國際人權法下已經做出的承諾，比如《聯合國反酷刑公約》。歐巴馬政府也沒有施加公共壓力促使中國作出新的承諾，比如北京政府在一九九八年簽署但至今未批准的《公民權利和政治權利國際公約》，歐巴馬在這個領域的作為，與他競選期間所背負的諸多期待恰恰相反。毋庸置疑，上述許多議題也涉及不同種類的人權。享有一個適合居住的環境、一個足以維持生計的工作和不受核武器危害的保障，都是普世人權。近東與中東的千千萬萬個人民的生活，都可能因為下周達成的其他決定而受到影響。而有關台海軍事安排的決定，對自由的台灣社會來說生死攸關。但是上述這些議題都未討論十三億中國人民「公民權利和政治權利」層面上的「人權」問題。在過去的三年裡，共產黨在大陸的專制政權收緊了對其公民最基本表達自由的限制：言論、出版、集會、組織和宗教。膽敢挑戰這些限制的人受到許多非正式、行政或刑事的懲罰，肆意而嚴酷。對於許多勇敢試圖實驗民主制度、踐行真正法治或修習宗教的人施加的迫害，不是一個近年來取得巨大經濟、社會進步的政府應有的行為。儘管有著這些巨大進步，在許多地區，不僅是西藏和新疆，深刻而廣泛的社會疾苦所帶來的民怨沸騰，讓這個體制面臨著越來越多的示威抗議。中國政府的回應不是通過建立民主機制，為處理這些民怨提供讓人滿意的渠道，反而是不斷壓制。那些試圖訴諸微弱的既存法律機制之維權人士和公益律師，常常被騷擾、毆打、剝奪生計、失去自由乃至被起訴判刑。他們很多人在獄中患病卻得不到必要的醫療照顧，當局顯然是以此來殺雞儆猴：讓這些人永遠不可能再挑戰這個體制，同時也讓潛在的仿效者不敢越雷池。很可能有幾百萬中國人都在期盼歐巴馬總統能夠譴責這些權力濫用，給中國領導人施壓，要求他們採取改革。但歐巴馬的談判地位不強。他不僅在很多問題上需要中國的合作，而且自己就是代表一個在人權方面應受批評的政府。對伊拉克的侵略、關達那摩灣監獄和伊拉克阿布格雷布監獄的醜聞，代表了美國近幾十年來最可恥的國際違法行為。更何況，歐巴馬在彌補其前任總統國內外一些踐踏人權的作為上，舉措緩慢，讓人失望。由歐巴馬總統和希拉蕊國務卿最近組成的這個能幹的團隊，是否將說服中國政府領導採取系統的改革，並且合作發起一些實質性的人權活動？即使歐巴馬和希拉蕊決定施壓，採取比目前更為強硬的立場，這也絕非易事。華府的溫和聲明，以及歐巴馬、胡錦濤的閉門會議，都不太可能提高中國司法的透明度，或帶來公正的審判。目前北京領導階層瀰漫著一股保守氛圍，並且在古巴、蘇丹、埃及和其他的惡劣踐踏人權的國家幫助下，中國在聯合國的外交代表，現在非常擅於對抗外國的批評與建議。鑒於中國日漸增強的國際影響力、新出現的國家主義意識和美國自身在人權方面的種種弱點，中國領導人顯然已經決定咬牙頂住壓力，同時對美國略施小惠，給它留點面子。重新啟動大體上沒有實效、時斷時續的雙邊官方「對話」，不能讓美國國內日漸生疑的民間人權組織滿意，這種「對話」是中國用來安撫民主國家的對應策略。同樣，中國政府若是沿用舊招數，釋放少數高知名度的維權人士，同時卻偷偷地抓捕更多的人，也不能讓這些人權組織滿意。如果歐巴馬能對中國人民發表一場振奮人心的演說，或者與異議人士有一次嚴肅認真的會談，至少可以表明他的誠懇態度，但是這些卻沒有排進他的行程裡。所以當年輕的總統回家的時候，能帶給人權支持者多少禮物呢？（作者為紐約大學法學院亞美法研究所共同主任，紐約外交關係協會兼任資深研究員。紐約大學法學院亞美法研究所譯。英文原文請參www.usasialaw.org）',\n",
       " 'label': 1}"
      ]
     },
     "execution_count": 47,
     "metadata": {},
     "output_type": "execute_result"
    }
   ],
   "source": [
    "data[2]"
   ]
  }
 ],
 "metadata": {
  "@webio": {
   "lastCommId": null,
   "lastKernelId": null
  },
  "kernelspec": {
   "display_name": "Python (EPU_denoise)",
   "language": "python",
   "name": "epu_denoise"
  },
  "language_info": {
   "codemirror_mode": {
    "name": "ipython",
    "version": 3
   },
   "file_extension": ".py",
   "mimetype": "text/x-python",
   "name": "python",
   "nbconvert_exporter": "python",
   "pygments_lexer": "ipython3",
   "version": "3.11.4"
  }
 },
 "nbformat": 4,
 "nbformat_minor": 5
}
