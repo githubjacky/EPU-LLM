{
 "cells": [
  {
   "cell_type": "code",
   "execution_count": 1,
   "id": "9ba89f8f",
   "metadata": {},
   "outputs": [],
   "source": [
    "import os\n",
    "from main import EPUClassifier"
   ]
  },
  {
   "cell_type": "code",
   "execution_count": 2,
   "id": "38e5331f",
   "metadata": {},
   "outputs": [],
   "source": [
    "persona = '''\n",
    "As an economist working on constructing Taiwan's Economic Policy Uncertainty Index (EPU index), \n",
    "your task is to identify articles that contain EPU keywords but should not be included \n",
    "when measuring Economic Policy Uncertainty. In other words, you need to identify the \n",
    "noise that should be excluded when constructing Taiwan's EPU index. There are two \n",
    "aspects you need to consider. First, you need to determine whether the main idea of the \n",
    "article is introducing news that will impact Taiwan's economic environment rather than \n",
    "providing historical accounts. Second, you should assess whether the events mentioned \n",
    "in the article actually occur within Taiwan. If the events do not occur within Taiwan, \n",
    "they should be excluded. Your response should maintain a consistent style and consist \n",
    "of two parts separated by a semicolon. The first part should indicate whether the given \n",
    "article is considered to be noise and thus should be excluded, with a value of 1 for \n",
    "yes and 0 for no. The second part should provide your reason for such classification.\n",
    "'''\n",
    "\n",
    "question = \"Should the following article be excluded when constructing Taiwan's EPU index?\"\n",
    "\n",
    "example1_input = f'''{question}\n",
    "\"\"\"\n",
    "半工半讀掙錢幫家裡，減輕媽媽經濟負擔\n",
    "\"\"\"\n",
    "'''\n",
    "example1_output = \"1; Yes, it should be excluded. Although the article contains keywords, it has nothing to do with the Taiwan' economic environment.\"\n",
    "\n",
    "example2_input = f'''{question}\n",
    "\"\"\"\n",
    "中國商業氣氛降至低點，習近平主導的中國市場「不再需要外國人了」\n",
    "\"\"\"\n",
    "'''\n",
    "example2_output = \"1; Yes, it should be excluded, as It does not mention any economic policy uncertainty events in Taiwan.\"\n",
    "\n",
    "example3_input = f'''{question}\n",
    "\"\"\"\n",
    "美國聯準會與台灣經濟都有一個「6月難題」\n",
    "\"\"\"\n",
    "'''\n",
    "example3_output = \"0; NO, it shouldn't be excluded. It introduces the policy uncertainty of Taiwan.\"\n",
    "\n",
    "\n",
    "prompt = [\n",
    "    {\"role\": \"system\", \"content\": persona},\n",
    "    {\"role\": \"user\", \"content\": example1_input},\n",
    "    {\"role\": \"assistant\", \"content\": example1_output},\n",
    "    {\"role\": \"user\", \"content\": example2_input},\n",
    "    {\"role\": \"assistant\", \"content\": example2_output},\n",
    "    {\"role\": \"user\", \"content\": example3_input},\n",
    "    {\"role\": \"assistant\", \"content\": example3_output},\n",
    "]\n",
    "\n",
    "clf = EPUClassifier(\n",
    "    api_key = os.getenv('GPTAPI'),\n",
    "    prompt = prompt,\n",
    "    pad = question,\n",
    "    model = \"gpt-3.5-turbo\",\n",
    ")"
   ]
  },
  {
   "cell_type": "code",
   "execution_count": 3,
   "id": "cb17d322",
   "metadata": {},
   "outputs": [
    {
     "name": "stderr",
     "output_type": "stream",
     "text": [
      "100%|█████████████████████████████████████████████████████████████████████████| 25/25 [00:54<00:00,  2.16s/it]"
     ]
    },
    {
     "name": "stdout",
     "output_type": "stream",
     "text": [
      "              precision    recall  f1-score   support\n",
      "\n",
      "           0       0.00      1.00      0.00         0\n",
      "           1       1.00      0.96      0.98        25\n",
      "\n",
      "    accuracy                           0.96        25\n",
      "   macro avg       0.50      0.98      0.49        25\n",
      "weighted avg       1.00      0.96      0.98        25\n",
      "\n"
     ]
    },
    {
     "name": "stderr",
     "output_type": "stream",
     "text": [
      "\n"
     ]
    }
   ],
   "source": [
    "clf.predict(\"./data/EPU_Noise_Examples.json\")"
   ]
  },
  {
   "cell_type": "code",
   "execution_count": 4,
   "id": "e0723798",
   "metadata": {},
   "outputs": [
    {
     "data": {
      "text/plain": [
       "[1, 1, 1, 1, 1, 1, 1, 1, 0, 1, 1, 1, 1, 1, 1, 1, 1, 1, 1, 1, 1, 1, 1, 1, 1]"
      ]
     },
     "execution_count": 4,
     "metadata": {},
     "output_type": "execute_result"
    }
   ],
   "source": [
    "clf.preds"
   ]
  },
  {
   "cell_type": "code",
   "execution_count": 5,
   "id": "52163e3e",
   "metadata": {},
   "outputs": [
    {
     "data": {
      "text/plain": [
       "[1, 1, 1, 1, 1, 1, 1, 1, 1, 1, 1, 1, 1, 1, 1, 1, 1, 1, 1, 1, 1, 1, 1, 1, 1]"
      ]
     },
     "execution_count": 5,
     "metadata": {},
     "output_type": "execute_result"
    }
   ],
   "source": [
    "clf.labels"
   ]
  },
  {
   "cell_type": "code",
   "execution_count": 6,
   "id": "ebb3526e",
   "metadata": {},
   "outputs": [
    {
     "data": {
      "text/plain": [
       "\" NO, it shouldn't be excluded. It discusses the impact of the European debt crisis on the global financial market, including Taiwan.\""
      ]
     },
     "execution_count": 6,
     "metadata": {},
     "output_type": "execute_result"
    }
   ],
   "source": [
    "clf.responses[8]"
   ]
  },
  {
   "cell_type": "code",
   "execution_count": 8,
   "id": "c392f5e3",
   "metadata": {},
   "outputs": [
    {
     "data": {
      "text/plain": [
       "'原本，復甦在望的經濟、漲聲四起的金融市場，一個歐洲債信危機，打落了樂觀希望，二次衰退、二次金融危機之疑慮再起。對未來的發展，我們認為並不悲觀，但由此事件中，我們則可看出全球金融市場與經濟仍然脆弱，及國家財政穩定度的重要性。從希臘發生債信危機起，西班牙、葡萄牙也先後出現不穩情勢；由於此三國都屬歐元區會員國，外界擔心影響整個歐元區的經濟與金融情勢，近日歐美股市俱以重挫回應，亞股也難置身事外。上周的「黑色星期五」，全球股市也因此重挫。周一的全球金融情勢，已漸趨穩定；台股因上周六獨步全球的開市，消化部分賣壓，周一以小漲三點作收；亞股雖仍繼續下跌以消化利空，但跌幅已輕。至於歐股方面，英、法、德三個主要國家的股市，在上周四、周五連續重挫，消化利空與賣壓後，周一開盤已出現紅盤。基本上整個金融情勢似已漸趨穩定。以全球金融市場的眼光來看，歐洲債信危機比杜拜危機嚴重；因為，杜拜名氣再怎麼大，畢竟只是「名氣」而已，以經濟體大小、在國際金融市場的核心或邊陲地位來比較，杜拜的影響有其局限。事實上，杜拜危機對國際金融市場的影響只有一、二天的效應。但歐洲債信危機則不同，第一，這三國是比杜拜大很多的經濟體，影響自然比較大；第二，此三國都屬歐元區的一員，市場最擔心者，倒不是希臘單一國家的問題，而是憂心對整個歐元區的負面影響。因此，其影響雖然不能與由美國次貸風暴引發的金融海嘯相比，但必然較杜拜危機嚴重，值得重視。目前，雖然金融市場已回穩，但歐洲債信危機尚未結束；市場仍在觀望歐元區國家如何處理善後，如再有利空，仍會再次重挫市場。不過，在經歷金融海嘯、全球救市的經驗後，各國斷不可能放手讓此危機與利空放大發酵；重點只是在處理方式與時機，及在全部事件落幕前，到底市場還要再反應多少才算落底。不要忘記，全球金融海嘯，其實在二○○七年八月初，次貸風暴時即已顯現；當時，歐洲央行連續兩天為市場緊急注資二千億美元、美國聯準會跟進注資三三○億美元。但是，在市場認為風暴平息後，再出現「連環爆」，花旗、ＡＩＧ等金融巨人，分別出現並認列鉅額損失。到二○○八年第一季整個風暴擴大，下半年則終而席捲全球。因此，對歐洲債信危機，實不宜掉以輕心。這幾天金融市場的回穩，不代表事件與危機就已結束。而由歐洲債信危機，也可看出目前全球的景氣復甦、金融市場的上揚，雖似已穩定往光明面行走，但實有如風中之燭，不特別注意呵護，燭火很容易又熄滅。特別是在金融海嘯期間，各國政府與央行「撒錢」救市場、救經濟，勉力穩住市場後，大部分政府實在是「體弱氣虛」，財政能力大不如前。未來的考驗，一個是在政府逐漸撤除對市場的支援後，民間與正常市場力量的承接能力；第二個更重要的是：各國政府本身的支撐能力。在撒錢救經濟後，政府財政狀況惡化與國家債務變重的國家，可不是只有這幾個被分析家譏為「歐豬四國」的國家而已；除了德國仍較穩健外，美、日、英、法的狀況都相當差；政府赤字創新高、債務壓力沉重，都已不是新聞。所幸的是，這些經濟體夠大、底子也還足，因此還能撐住。對已融入全球金融體系的台灣而言，我們是小型經濟體，無能影響與改變全球金融體系的動盪，只能被動接受與因應。但由杜拜危機到歐洲債信危機，大家應看得出國家財政穩定度的重要。金融海嘯時，全球撒錢救經濟，或許外界不忍對政府財政過分苛責，但海嘯已退，從國家中長期經濟發展的眼光看，政府仍應回歸常態，力求財政穩健。否則，債信危機難保不會出現在台灣。'"
      ]
     },
     "execution_count": 8,
     "metadata": {},
     "output_type": "execute_result"
    }
   ],
   "source": [
    "clf.articles[8]"
   ]
  },
  {
   "cell_type": "code",
   "execution_count": 9,
   "id": "a9d14d8b",
   "metadata": {},
   "outputs": [],
   "source": [
    "clf.output(\"./data/pred.json\")"
   ]
  },
  {
   "cell_type": "code",
   "execution_count": 10,
   "id": "6885d05c",
   "metadata": {},
   "outputs": [
    {
     "data": {
      "text/plain": [
       "{'article': '原本，復甦在望的經濟、漲聲四起的金融市場，一個歐洲債信危機，打落了樂觀希望，二次衰退、二次金融危機之疑慮再起。對未來的發展，我們認為並不悲觀，但由此事件中，我們則可看出全球金融市場與經濟仍然脆弱，及國家財政穩定度的重要性。從希臘發生債信危機起，西班牙、葡萄牙也先後出現不穩情勢；由於此三國都屬歐元區會員國，外界擔心影響整個歐元區的經濟與金融情勢，近日歐美股市俱以重挫回應，亞股也難置身事外。上周的「黑色星期五」，全球股市也因此重挫。周一的全球金融情勢，已漸趨穩定；台股因上周六獨步全球的開市，消化部分賣壓，周一以小漲三點作收；亞股雖仍繼續下跌以消化利空，但跌幅已輕。至於歐股方面，英、法、德三個主要國家的股市，在上周四、周五連續重挫，消化利空與賣壓後，周一開盤已出現紅盤。基本上整個金融情勢似已漸趨穩定。以全球金融市場的眼光來看，歐洲債信危機比杜拜危機嚴重；因為，杜拜名氣再怎麼大，畢竟只是「名氣」而已，以經濟體大小、在國際金融市場的核心或邊陲地位來比較，杜拜的影響有其局限。事實上，杜拜危機對國際金融市場的影響只有一、二天的效應。但歐洲債信危機則不同，第一，這三國是比杜拜大很多的經濟體，影響自然比較大；第二，此三國都屬歐元區的一員，市場最擔心者，倒不是希臘單一國家的問題，而是憂心對整個歐元區的負面影響。因此，其影響雖然不能與由美國次貸風暴引發的金融海嘯相比，但必然較杜拜危機嚴重，值得重視。目前，雖然金融市場已回穩，但歐洲債信危機尚未結束；市場仍在觀望歐元區國家如何處理善後，如再有利空，仍會再次重挫市場。不過，在經歷金融海嘯、全球救市的經驗後，各國斷不可能放手讓此危機與利空放大發酵；重點只是在處理方式與時機，及在全部事件落幕前，到底市場還要再反應多少才算落底。不要忘記，全球金融海嘯，其實在二○○七年八月初，次貸風暴時即已顯現；當時，歐洲央行連續兩天為市場緊急注資二千億美元、美國聯準會跟進注資三三○億美元。但是，在市場認為風暴平息後，再出現「連環爆」，花旗、ＡＩＧ等金融巨人，分別出現並認列鉅額損失。到二○○八年第一季整個風暴擴大，下半年則終而席捲全球。因此，對歐洲債信危機，實不宜掉以輕心。這幾天金融市場的回穩，不代表事件與危機就已結束。而由歐洲債信危機，也可看出目前全球的景氣復甦、金融市場的上揚，雖似已穩定往光明面行走，但實有如風中之燭，不特別注意呵護，燭火很容易又熄滅。特別是在金融海嘯期間，各國政府與央行「撒錢」救市場、救經濟，勉力穩住市場後，大部分政府實在是「體弱氣虛」，財政能力大不如前。未來的考驗，一個是在政府逐漸撤除對市場的支援後，民間與正常市場力量的承接能力；第二個更重要的是：各國政府本身的支撐能力。在撒錢救經濟後，政府財政狀況惡化與國家債務變重的國家，可不是只有這幾個被分析家譏為「歐豬四國」的國家而已；除了德國仍較穩健外，美、日、英、法的狀況都相當差；政府赤字創新高、債務壓力沉重，都已不是新聞。所幸的是，這些經濟體夠大、底子也還足，因此還能撐住。對已融入全球金融體系的台灣而言，我們是小型經濟體，無能影響與改變全球金融體系的動盪，只能被動接受與因應。但由杜拜危機到歐洲債信危機，大家應看得出國家財政穩定度的重要。金融海嘯時，全球撒錢救經濟，或許外界不忍對政府財政過分苛責，但海嘯已退，從國家中長期經濟發展的眼光看，政府仍應回歸常態，力求財政穩健。否則，債信危機難保不會出現在台灣。',\n",
       " 'label': 1,\n",
       " 'pred': 0,\n",
       " 'response': \" NO, it shouldn't be excluded. It discusses the impact of the European debt crisis on the global financial market, including Taiwan.\"}"
      ]
     },
     "execution_count": 10,
     "metadata": {},
     "output_type": "execute_result"
    }
   ],
   "source": [
    "import json\n",
    "from pathlib import Path\n",
    "json.loads(Path('./data/pred.json').read_text())[8]"
   ]
  }
 ],
 "metadata": {
  "@webio": {
   "lastCommId": null,
   "lastKernelId": null
  },
  "kernelspec": {
   "display_name": "Python (EPU_denoise)",
   "language": "python",
   "name": "epu_denoise"
  },
  "language_info": {
   "codemirror_mode": {
    "name": "ipython",
    "version": 3
   },
   "file_extension": ".py",
   "mimetype": "text/x-python",
   "name": "python",
   "nbconvert_exporter": "python",
   "pygments_lexer": "ipython3",
   "version": "3.11.4"
  }
 },
 "nbformat": 4,
 "nbformat_minor": 5
}
