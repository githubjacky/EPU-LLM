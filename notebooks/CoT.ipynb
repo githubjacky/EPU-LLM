{
 "cells": [
  {
   "cell_type": "code",
   "execution_count": 3,
   "metadata": {},
   "outputs": [],
   "source": [
    "import os\n",
    "os.chdir('..')"
   ]
  },
  {
   "cell_type": "code",
   "execution_count": 4,
   "metadata": {},
   "outputs": [],
   "source": [
    "import orjson\n",
    "from pathlib import Path\n",
    "\n",
    "from src.models.utils import read_jsonl"
   ]
  },
  {
   "cell_type": "code",
   "execution_count": 8,
   "metadata": {},
   "outputs": [
    {
     "data": {
      "text/plain": [
       "[{'label': 1,\n",
       "  'news': '澳洲央行昨日意外調高基準利率，隔夜拆款利率從原本3%，調高為3.25%，澳洲儲備銀行行長史蒂芬（Glenn Stevens）表示，澳洲經濟大幅緊縮的風險已明顯降低，為了讓經濟穩健成長，澳洲央行未來幾年將持續進行微調。巴克萊投資表示，澳洲與巴西、印度、印尼、台灣、韓國，是這一波金融風暴中，經濟提早反彈的國家，領先指標3月分，就出現反彈訊號，由於中國大陸原物料需求強勁，巴克萊預估，澳洲今明二年經濟成長率，可望達0.9%與2.5%。巴克萊投資預估，英國、印度、韓國三國，可望在明年第1季升息，台灣升息時間，可望落在第2季；美國、中國與歐盟則要等到明年第3季才會升息。'},\n",
       " {'label': 0,\n",
       "  'news': '吳揆指示研考會票選出庶民十大民怨，並擬訂「經濟、生活、民生」三大面向的旗艦計畫，預計四年耗資新台幣五千億以消除民怨。筆者不禁要質疑「消除民怨，錢是萬能嗎？」吳揆的旗艦計畫所能消除的，偏重於造橋開路等有形建設的民怨，也因此就算經費加倍或加數倍，物慾永遠不能滿足的民怨，將繼續高懸著。甚至未來新預算執行過程的不嚴謹、不公平、不透明，導致公帑錯用、濫用的浪費情事，勢必引來更多更大的不平之鳴。事實上，心理不平的民怨消除，比有形建設來得重要。因為這方面的民怨，通常來自政府行政制度草率偏頗、便宜行事所造成的不公不義。例如汽燃稅隨車徵收、健保費調漲、官員張僚氣、民代耍特權等等，或者研考會所做民怨調查：電話網路詐騙氾濫、求職不易與失業、民生物價過高……等，這些民怨的消除，只要政府行政用心，何須撒大錢？'},\n",
       " {'label': 1,\n",
       "  'news': '〔編譯劉千郁／綜合報導〕上週全球股市走衰，美國企業獲利不如預期、國際貨幣基金（IMF）調降經濟成長預期，加上中國通膨率創新高等利空消息拖累股價。美國鋁業上週公佈獲利結果讓市場大失所望，搜尋引擎龍頭Google週四宣佈每股獲利8.08美元同樣低於市場預期，逼近110美元的原油價格引發經濟持續成長的疑慮，道瓊上週共跌掉38點或0.3％收在12,341點，那斯達克與史坦普500跌掉0.5％、0.6％。歐股同樣下挫，英國股市下跌0.9％收5,996點，法國、德國股市下跌，分析師指出，日本福島核電廠事故等級調升至與車諾比核災變同級對股市造成負面影響，IMF調降美國與日本成長預估打擊市場信心，經濟復甦不確定性升高。中國3月消費者物價創下32個月高點紀錄5.4％拖累亞股，亞洲大型經濟體收緊貨幣政策的可能性加大，分析師表示，整體經濟前景相當樂觀，但升息所帶來的可能衝擊值得注意，香港恆生下跌1.6％、日本日經225下跌1.8％，中國上證指數上漲0.7％。'},\n",
       " {'label': 0,\n",
       "  'news': '總統馬英九競選期間提出的募兵支票恐怕面臨跳票？國防部長陳肇敏昨在立法院外交國防委員會中表示，推動募兵制的確有困難，且要推動到全面募兵制，「是國防部嚴峻的考驗」。陳肇敏指出，國防預算佔ＧＤＰ（Gross Domestic Product，國內生產毛額）百分之三，但以現有國軍員額來看，根本不可能達成全面募兵制，因此國軍要再精進是必然方向。而我國走的是一個海島守勢作戰，各軍種人員配比都要進行檢討，並將繼續推動「再精進案」，將目前二十七萬大軍減至二十到二十五萬人以內。陳肇敏並指出，目前募得許多素質相當不錯的國軍弟兄，主要與過去八年經濟不景氣，工作難找有關，未來經濟好轉後，是否還有誘因？另外，台灣人口有限，國防部會努力推動募兵制，但不能因滿足「量」的需求而減低「質」的要求。至於重大軍購案，陳肇敏強調向美國購買F-16 C/D戰機有其必要，但其他軍購案如潛艦，因目前我方連採購潛艇的型號都沒有，這部分會再研究，會就作戰需求再作評估。記者王<U+70F1>華'},\n",
       " {'label': 1,\n",
       "  'news': '儘管國際經濟情勢擾攘不安，MAZDA TAIWAN執行長朱梅君在接受記者訪問時仍樂觀預期今年國內車市仍可望比去年成長2成左右，但對明年第1、2季則持保守態度，認為仍須取決總統大選後的經濟面和國際經濟局勢能否轉穩。她表示，隨著全新Mazda5的即將上市，未來除將強化Zoom-Zoom駕馭至上精神，也將持續營造MAZDA的日式高質感、高品味形象，同時亦將更側重服務品質的提升。由於市場預測未來小型房車和小型SUV都有成長空間，因此她透露明年將考慮引進全新Mazda CX-5，也不排除國產化可能性。也因高競爭力新車的陸續加入，她誓言2015年後MAZDA總市占率將提升至6%。'},\n",
       " {'label': 0,\n",
       "  'news': '南韓總統朴槿惠遭彈劾恐引發金融市場動盪，國內財金部會首長將緊盯下周一亞洲股、匯市等金融市場波動，尤其國際資金是否因此轉進台灣匯市，央行將小心觀察，盡力維持台幣匯率動態穩定。台股則相對樂觀，法人認為，如果外資因此撤出韓國，台股有機會受惠。央行官員指出，從昨外匯市場反應來看，初步沒什麼大變化，推測應是近期南韓民眾連續遊行，金融市場已有心理準備，暫時不擔心影響台灣。不過，青瓦台震盪是否會導致國際資金轉進台灣匯市，「需要小心觀察」，且下周還有美國聯準會（Fed）可能升息的因素，央行會盡力維持台幣匯率動態穩定。柏瑞投信投資顧問部副總經理林炳魁分析，未來幾個月內南韓狀況還是不明朗，且南韓經濟近期不好，缺乏政府有效領導的情況下，明年韓股壓力會更大。林炳魁說，相較台灣基本面溫和反彈，部分企業獲利表現不錯，不排除部分從韓股撤出的外資可能轉移到台股市場。財政部官員說，昨台股與國際股市沒太大變化，目前沒召開國安基金會議計劃。財經中心'}]"
      ]
     },
     "execution_count": 8,
     "metadata": {},
     "output_type": "execute_result"
    }
   ],
   "source": [
    "read_jsonl('data/raw/reason_example.jsonl')"
   ]
  },
  {
   "cell_type": "code",
   "execution_count": 15,
   "metadata": {},
   "outputs": [
    {
     "data": {
      "text/plain": [
       "{'pred': 1,\n",
       " 'reason': \"First, the news is related to Taiwan's economics as it mentions Taiwan is one of the countries which have experienced an early economic rebound. Second, the news is related to Taiwan's policy as it states the expectation timing of a interest rate hike. Finally, there isn't any further discussion abount uncertainty. This news doesn't simultaneously mention economics, policy and uncertainty. Hence, it should be excluded when constructing Taiwan's EPU index.\"}"
      ]
     },
     "execution_count": 15,
     "metadata": {},
     "output_type": "execute_result"
    }
   ],
   "source": [
    "# The news is about the Australian central bank raising interest rates. It mentions slightly Taiwan's economics condtion, but there isn't any further discussion about policy or uncertainty. Hence, this news should be excluded.\n",
    "reason_cot1 = \"\"\"\\\n",
    "First, the news is related to Taiwan's economics as it mentions Taiwan is one of the countries which have experienced an early economic rebound. \\\n",
    "Second, the news is related to Taiwan's policy as it states the expectation timing of a interest rate hike. \\\n",
    "Finally, there isn't any further discussion abount uncertainty. \\\n",
    "This news doesn't simultaneously mention economics, policy and uncertainty. \\\n",
    "Hence, it should be excluded when constructing Taiwan's EPU index.\\\n",
    "\"\"\"\n",
    "\n",
    "reason_example1 = {\"pred\": 1, \"reason\": reason_cot1}\n",
    "reason_example1\n"
   ]
  },
  {
   "cell_type": "code",
   "execution_count": 16,
   "metadata": {},
   "outputs": [
    {
     "data": {
      "text/plain": [
       "{'pred': 0,\n",
       " 'reason': \"First, the news is related to Taiwan's economics as the program discussed is related to economics and it's the Taiwan's Prime Minister who propose it. Second, the news is related to Taiwan's policy. Finally, the news is related to uncertainty as the writer of this news is doubt about the effectness of the policy. This news simultaneously mention economics, policy and uncertainty. Hence, it shouldn't be excluded when constructing Taiwan's EPU index.\"}"
      ]
     },
     "execution_count": 16,
     "metadata": {},
     "output_type": "execute_result"
    }
   ],
   "source": [
    "reason_cot2 = \"\"\"\\\n",
    "First, the news is related to Taiwan's economics as the program discussed is related to economics and it's the Taiwan's Prime Minister who propose it. \\\n",
    "Second, the news is related to Taiwan's policy. \\\n",
    "Finally, the news is related to uncertainty as the writer of this news is doubt about the effectness of the policy. \\\n",
    "This news simultaneously mention economics, policy and uncertainty. \\\n",
    "Hence, it shouldn't be excluded when constructing Taiwan's EPU index.\\\n",
    "\"\"\"\n",
    "\n",
    "reason_example2 = {\"pred\": 0, \"reason\": reason_cot2}\n",
    "reason_example2"
   ]
  },
  {
   "cell_type": "code",
   "execution_count": 17,
   "metadata": {},
   "outputs": [
    {
     "data": {
      "text/plain": [
       "{'pred': 1,\n",
       " 'reason': \"First, the news is not directly related to Taiwan's economics as it discuss mainly about the global economics condition. Second, the news is not related to the policy. Finally, the news is related to the uncertainty as it discuss various downturns of the stock market in many countries. This news doesn't simultaneously mention economics, policy and uncertainty. Hence, it should be excluded when constructing Taiwan's EPU index.\"}"
      ]
     },
     "execution_count": 17,
     "metadata": {},
     "output_type": "execute_result"
    }
   ],
   "source": [
    "reason_cot3 = \"\"\"\\\n",
    "First, the news is not directly related to Taiwan's economics as it discuss mainly about the global economics condition. \\\n",
    "Second, the news is not related to the policy. \\\n",
    "Finally, the news is related to the uncertainty as it discuss various downturns of the stock market in many countries. \\\n",
    "This news doesn't simultaneously mention economics, policy and uncertainty. \\\n",
    "Hence, it should be excluded when constructing Taiwan's EPU index.\\\n",
    "\"\"\"\n",
    "\n",
    "reason_example3 = {\"pred\": 1, \"reason\": reason_cot3}\n",
    "reason_example3"
   ]
  },
  {
   "cell_type": "code",
   "execution_count": 18,
   "metadata": {},
   "outputs": [
    {
     "data": {
      "text/plain": [
       "{'pred': 0,\n",
       " 'reason': \"First, the news is related to Taiwan's economics as it points out the relation between the quality of voluntary military and the Taiwan's economics condtion. Second, the news is related to the policy regarding the voluntary military service. Finally, the news is related to the uncertainty as it discuss some possibilities and possible progress of the policy. This news simultaneously mention economics, policy and uncertainty. Hence, it shouldn't be excluded when constructing Taiwan's EPU index.\"}"
      ]
     },
     "execution_count": 18,
     "metadata": {},
     "output_type": "execute_result"
    }
   ],
   "source": [
    "reason_cot4 = \"\"\"\\\n",
    "First, the news is related to Taiwan's economics as it points out the relation between the quality of voluntary military and the Taiwan's economics condtion. \\\n",
    "Second, the news is related to the policy regarding the voluntary military service. \\\n",
    "Finally, the news is related to the uncertainty as it discuss some possibilities and possible progress of the policy. \\\n",
    "This news simultaneously mention economics, policy and uncertainty. \\\n",
    "Hence, it shouldn't be excluded when constructing Taiwan's EPU index.\\\n",
    "\"\"\"\n",
    "\n",
    "reason_example4 = {\"pred\": 0, \"reason\": reason_cot4}\n",
    "reason_example4"
   ]
  },
  {
   "cell_type": "code",
   "execution_count": 19,
   "metadata": {},
   "outputs": [
    {
     "data": {
      "text/plain": [
       "{'pred': 1,\n",
       " 'reason': \"First, the news is related to Taiwan's economics as it's about the CEO of Mazda Taiwan expressing optimism about the domestic car market. Second, it's obvious the news isn't related to the policy. Finally, the news is related to the uncertainty as it states the existence of the uncertainty within the car market depending on the  global economics condition and the results of the election. This news doesn't simultaneously mention economics, policy and uncertainty. Hence, it should be excluded when constructing Taiwan's EPU index.\"}"
      ]
     },
     "execution_count": 19,
     "metadata": {},
     "output_type": "execute_result"
    }
   ],
   "source": [
    "reason_cot5 = \"\"\"\\\n",
    "First, the news is related to Taiwan's economics as it's about the CEO of Mazda Taiwan expressing optimism about the domestic car market. \\\n",
    "Second, it's obvious the news isn't related to the policy. \\\n",
    "Finally, the news is related to the uncertainty as it states the existence of the uncertainty within the car market depending on the  global economics condition and the results of the election. \\\n",
    "This news doesn't simultaneously mention economics, policy and uncertainty. \\\n",
    "Hence, it should be excluded when constructing Taiwan's EPU index.\\\n",
    "\"\"\"\n",
    "\n",
    "reason_example5 = {\"pred\": 1, \"reason\": reason_cot5}\n",
    "reason_example5"
   ]
  },
  {
   "cell_type": "code",
   "execution_count": 20,
   "metadata": {},
   "outputs": [
    {
     "data": {
      "text/plain": [
       "{'pred': 0,\n",
       " 'reason': \"First, the news is related to Taiwan's economics as the main discussion is about how Korean's political situaion will affect Taiwan'e financial market. Second, the news is related to the policy as the news metion the centrial bank will try to stabalize the market. Finally, it's obvious that the news is related to the uncertainty result from the Korean's political situation. This news simultaneously mention economics, policy and uncertainty. Hence, it shouldn't be excluded when constructing Taiwan's EPU index.\"}"
      ]
     },
     "execution_count": 20,
     "metadata": {},
     "output_type": "execute_result"
    }
   ],
   "source": [
    "reason_cot6 = \"\"\"\\\n",
    "First, the news is related to Taiwan's economics as the main discussion is about how Korean's political situaion will affect Taiwan'e financial market. \\\n",
    "Second, the news is related to the policy as the news metion the centrial bank will try to stabalize the market. \\\n",
    "Finally, it's obvious that the news is related to the uncertainty result from the Korean's political situation. \\\n",
    "This news simultaneously mention economics, policy and uncertainty. \\\n",
    "Hence, it shouldn't be excluded when constructing Taiwan's EPU index.\\\n",
    "\"\"\"\n",
    "\n",
    "reason_example6 = {\"pred\": 0, \"reason\": reason_cot6}\n",
    "reason_example6"
   ]
  },
  {
   "cell_type": "code",
   "execution_count": 21,
   "metadata": {},
   "outputs": [
    {
     "data": {
      "text/plain": [
       "[{'pred': 1,\n",
       "  'reason': \"First, the news is related to Taiwan's economics as it mentions Taiwan is one of the countries which have experienced an early economic rebound. Second, the news is related to Taiwan's policy as it states the expectation timing of a interest rate hike. Finally, there isn't any further discussion abount uncertainty. This news doesn't simultaneously mention economics, policy and uncertainty. Hence, it should be excluded when constructing Taiwan's EPU index.\"},\n",
       " {'pred': 0,\n",
       "  'reason': \"First, the news is related to Taiwan's economics as the program discussed is related to economics and it's the Taiwan's Prime Minister who propose it. Second, the news is related to Taiwan's policy. Finally, the news is related to uncertainty as the writer of this news is doubt about the effectness of the policy. This news simultaneously mention economics, policy and uncertainty. Hence, it shouldn't be excluded when constructing Taiwan's EPU index.\"},\n",
       " {'pred': 1,\n",
       "  'reason': \"First, the news is not directly related to Taiwan's economics as it discuss mainly about the global economics condition. Second, the news is not related to the policy. Finally, the news is related to the uncertainty as it discuss various downturns of the stock market in many countries. This news doesn't simultaneously mention economics, policy and uncertainty. Hence, it should be excluded when constructing Taiwan's EPU index.\"},\n",
       " {'pred': 0,\n",
       "  'reason': \"First, the news is related to Taiwan's economics as it points out the relation between the quality of voluntary military and the Taiwan's economics condtion. Second, the news is related to the policy regarding the voluntary military service. Finally, the news is related to the uncertainty as it discuss some possibilities and possible progress of the policy. This news simultaneously mention economics, policy and uncertainty. Hence, it shouldn't be excluded when constructing Taiwan's EPU index.\"},\n",
       " {'pred': 1,\n",
       "  'reason': \"First, the news is related to Taiwan's economics as it's about the CEO of Mazda Taiwan expressing optimism about the domestic car market. Second, it's obvious the news isn't related to the policy. Finally, the news is related to the uncertainty as it states the existence of the uncertainty within the car market depending on the  global economics condition and the results of the election. This news doesn't simultaneously mention economics, policy and uncertainty. Hence, it should be excluded when constructing Taiwan's EPU index.\"},\n",
       " {'pred': 0,\n",
       "  'reason': \"First, the news is related to Taiwan's economics as the main discussion is about how Korean's political situaion will affect Taiwan'e financial market. Second, the news is related to the policy as the news metion the centrial bank will try to stabalize the market. Finally, it's obvious that the news is related to the uncertainty result from the Korean's political situation. This news simultaneously mention economics, policy and uncertainty. Hence, it shouldn't be excluded when constructing Taiwan's EPU index.\"}]"
      ]
     },
     "execution_count": 21,
     "metadata": {},
     "output_type": "execute_result"
    }
   ],
   "source": [
    "examples = [reason_example1, reason_example2, reason_example3, reason_example4, reason_example5, reason_example6]\n",
    "\n",
    "examples"
   ]
  },
  {
   "cell_type": "code",
   "execution_count": 22,
   "metadata": {},
   "outputs": [],
   "source": [
    "with Path('data/processed/reason_example_6.jsonl').open('wb') as f:\n",
    "    for i in examples:\n",
    "        f.write(orjson.dumps(i, option = orjson.OPT_APPEND_NEWLINE))"
   ]
  }
 ],
 "metadata": {
  "kernelspec": {
   "display_name": "Poetry",
   "language": "python",
   "name": "poetry-kernel"
  },
  "language_info": {
   "codemirror_mode": {
    "name": "ipython",
    "version": 3
   },
   "file_extension": ".py",
   "mimetype": "text/x-python",
   "name": "python",
   "nbconvert_exporter": "python",
   "pygments_lexer": "ipython3",
   "version": "3.11.5"
  }
 },
 "nbformat": 4,
 "nbformat_minor": 2
}
