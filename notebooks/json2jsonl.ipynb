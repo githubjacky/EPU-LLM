{
 "cells": [
  {
   "cell_type": "code",
   "execution_count": 1,
   "metadata": {},
   "outputs": [],
   "source": [
    "import os\n",
    "os.chdir('..')"
   ]
  },
  {
   "cell_type": "code",
   "execution_count": 2,
   "metadata": {},
   "outputs": [],
   "source": [
    "import orjson\n",
    "from pathlib import Path\n",
    "from typing import Optional\n",
    "import json"
   ]
  },
  {
   "cell_type": "code",
   "execution_count": 3,
   "metadata": {},
   "outputs": [],
   "source": [
    "def json2jsonl(path: str, name: str, n: Optional[int] = None):\n",
    "    data = (\n",
    "        json.loads(Path(path).read_text())\n",
    "        if n is None\n",
    "        else\n",
    "        json.loads(Path(path).read_text())[:n]\n",
    "    )\n",
    "\n",
    "    data_ = []\n",
    "    with Path(name).open('ab') as f:\n",
    "        for i in data:\n",
    "            instance =  {\n",
    "                    \"label\": i.get('label'),\n",
    "                    \"news\": i.get('article')\n",
    "            }\n",
    "            data_.append(instance)\n",
    "            f.write(orjson.dumps(\n",
    "               instance,\n",
    "                option = orjson.OPT_APPEND_NEWLINE\n",
    "            ))\n",
    "    \n",
    "    return data_"
   ]
  },
  {
   "cell_type": "code",
   "execution_count": 8,
   "metadata": {},
   "outputs": [
    {
     "data": {
      "text/plain": [
       "{'label': 0,\n",
       " 'news': '雲林縣立委補選，國民黨在分裂的情況下慘敗給民進黨，更加諷刺的是民進黨參選人在此次低投票率的狀態下，得票數卻還逆勢成長一萬票。筆者認為此次國民黨會敗選，除了國民黨分裂是主要原因外，還有另一個原因，就在於國民黨所提名的人都是學者出身的人，像是先前馬英九屬意的花蓮葉金川及此次張艮輝，都是缺乏民意基礎無法貼近民意的人選，但自我感覺良好的馬政府卻執意硬推，加上國際金融風暴來襲，所謂的經濟馬上好也隨之破功，以及面對自家立委的雙重國籍爭議，一度以拖待變不願給民眾明確交待，而八八水災許多閣員脫離民意引起民眾反感的不當發言，種種展露出來的傲慢態度，都是這次國民黨會在雲林縣慘敗的原因。因此，國民黨應當去多傾聽民意，真正了解民意的導向為何，而不是閉門造車，推出一堆自我感覺良好的候選人要求選民必須買帳。'}"
      ]
     },
     "execution_count": 8,
     "metadata": {},
     "output_type": "execute_result"
    }
   ],
   "source": [
    "data = json2jsonl('data/raw/EPU_Noise_Train.json', 'data/raw/example07.jsonl')\n",
    "data[0]"
   ]
  }
 ],
 "metadata": {
  "kernelspec": {
   "display_name": "Poetry",
   "language": "python",
   "name": "poetry-kernel"
  },
  "language_info": {
   "codemirror_mode": {
    "name": "ipython",
    "version": 3
   },
   "file_extension": ".py",
   "mimetype": "text/x-python",
   "name": "python",
   "nbconvert_exporter": "python",
   "pygments_lexer": "ipython3",
   "version": "3.11.5"
  },
  "orig_nbformat": 4
 },
 "nbformat": 4,
 "nbformat_minor": 2
}
