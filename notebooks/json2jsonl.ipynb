{
 "cells": [
  {
   "cell_type": "code",
   "execution_count": 1,
   "metadata": {},
   "outputs": [],
   "source": [
    "import os\n",
    "os.chdir('..')"
   ]
  },
  {
   "cell_type": "code",
   "execution_count": 2,
   "metadata": {},
   "outputs": [],
   "source": [
    "import orjson\n",
    "from pathlib import Path\n",
    "from typing import Optional\n",
    "import json\n",
    "import sys\n",
    "sys.path.append(os.path.abspath(f\"{os.getcwd()}\"))\n",
    "\n",
    "from src.models.utils import read_jsonl"
   ]
  },
  {
   "cell_type": "code",
   "execution_count": 9,
   "metadata": {},
   "outputs": [],
   "source": [
    "def json2jsonl(input_path: str, output_path: str):\n",
    "    data = json.loads(Path(input_path).read_text())\n",
    "\n",
    "    with Path(output_path).open('ab') as f:\n",
    "        for i in data:\n",
    "            try:\n",
    "                instance =  {\n",
    "                    \"label\": i.get('label'),\n",
    "                    \"news\": i.get('article')\n",
    "                }\n",
    "                f.write(orjson.dumps(\n",
    "                    instance,\n",
    "                    option = orjson.OPT_APPEND_NEWLINE\n",
    "                ))\n",
    "            except:\n",
    "                continue"
   ]
  },
  {
   "cell_type": "code",
   "execution_count": 10,
   "metadata": {},
   "outputs": [],
   "source": [
    "json2jsonl('data/raw/EPU_Noise_Train.json', 'data/raw/test.jsonl')"
   ]
  },
  {
   "cell_type": "code",
   "execution_count": 19,
   "metadata": {},
   "outputs": [
    {
     "name": "stdout",
     "output_type": "stream",
     "text": [
      "excluded: 2903\n",
      "included: 4167\n"
     ]
    }
   ],
   "source": [
    "excluded = 0\n",
    "included = 0\n",
    "for i in read_jsonl('data/raw/test.jsonl'):\n",
    "    if i.get('label') == 0:\n",
    "        included += 1\n",
    "    else:\n",
    "        excluded += 1\n",
    "print(f'excluded: {excluded}')\n",
    "print(f'included: {included}')"
   ]
  },
  {
   "cell_type": "code",
   "execution_count": 15,
   "metadata": {},
   "outputs": [],
   "source": [
    "json2jsonl('data/raw/EPU_Noise_Train.json', 'data/raw/train.jsonl')"
   ]
  },
  {
   "cell_type": "code",
   "execution_count": 20,
   "metadata": {},
   "outputs": [
    {
     "name": "stdout",
     "output_type": "stream",
     "text": [
      "excluded: 16459\n",
      "included: 23623\n"
     ]
    }
   ],
   "source": [
    "excluded = 0\n",
    "included = 0\n",
    "for i in read_jsonl('data/raw/train.jsonl'):\n",
    "    if i.get('label') == 0:\n",
    "        included += 1\n",
    "    else:\n",
    "        excluded += 1\n",
    "print(f'excluded: {excluded}')\n",
    "print(f'included: {included}')"
   ]
  },
  {
   "cell_type": "code",
   "execution_count": 18,
   "metadata": {},
   "outputs": [],
   "source": [
    "json2jsonl('data/raw/EPU_Noise_Examples.json', 'data/raw/example.jsonl')"
   ]
  }
 ],
 "metadata": {
  "kernelspec": {
   "display_name": "epu-denoise-oYDXtRpX-py3.12",
   "language": "python",
   "name": "python3"
  },
  "language_info": {
   "codemirror_mode": {
    "name": "ipython",
    "version": 3
   },
   "file_extension": ".py",
   "mimetype": "text/x-python",
   "name": "python",
   "nbconvert_exporter": "python",
   "pygments_lexer": "ipython3",
   "version": "3.12.1"
  },
  "orig_nbformat": 4
 },
 "nbformat": 4,
 "nbformat_minor": 2
}
