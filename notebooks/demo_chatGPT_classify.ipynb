{
 "cells": [
  {
   "cell_type": "code",
   "execution_count": 1,
   "id": "24186ecb",
   "metadata": {},
   "outputs": [],
   "source": [
    "import os\n",
    "os.chdir('..')"
   ]
  },
  {
   "cell_type": "code",
   "execution_count": 2,
   "id": "e31385e6-d432-49e8-9059-526b81dc484b",
   "metadata": {},
   "outputs": [],
   "source": [
    "from pathlib import Path\n",
    "import orjson\n",
    "\n",
    "from src.models.prompt import Prompt\n",
    "from src.models.chatgpt import ChatGPT"
   ]
  },
  {
   "cell_type": "code",
   "execution_count": 3,
   "id": "5793b25f-c78e-4bb2-94b5-7df2bd08ebfd",
   "metadata": {},
   "outputs": [
    {
     "name": "stdout",
     "output_type": "stream",
     "text": [
      "number of data:  90\n"
     ]
    },
    {
     "data": {
      "text/plain": [
       "{'label': 1,\n",
       " 'news': '【大陸中心╱綜合外電報導】當20歲菲律賓青年佛羅克魯茲（Jaime FlorCruz）1971年到中國時，正值文化大革命動盪，集權封閉一如今日北韓。他沒料到因緣際會下，一待就是43年，在此結婚生子還當了記者，見證中國30年多來最重大事件，如六四天安門等，成為駐中國最久的外籍特派員。他昨退休，卸任美國有線電視新聞網（CNN）北京分社長，他感性地說，心情苦樂參半，駐中生涯「不虛此行」。1971年時為菲國學生領袖的佛羅克魯茲赴中國旅遊，獨裁總統馬可仕突圍捕異議人士，他上了黑名單、被迫流亡中國。1977年他進入北京大學念書，同屆的有現任總理李克強、涉貪落馬重慶市前市委書記薄熙來。他回憶，曾與薄一起修世界史，薄會用英文跟他攀聊，「當時就極富個人魅力與堅持己見」。佛羅克魯茲先後待過《時代》雜誌、CNN駐北京分社，見證中國大規模經濟與社會改革，報導兩岸關係、2008年四川地震等重大新聞。2012年佛羅克魯茲曾撰文談「台灣大選為何重要」。談到中國的改變，他認為現在民眾享有更多自由，但也存在環境污染、多數人缺乏「精神支柱」等問題。他說很幸運能在對的時間和地方目睹改變，但打趣稱：「絕對不會想念北京的霧霾。」●年齡：63歲（1951/04/05生於菲律賓）●身分：CNN北京分社長，昨退休●學歷：北京大學中國歷史學士●經歷：1980年《新聞周刊》記者1982年《時代》北京分社記者，1990至2000年任社長●著作：《北京大屠殺》（Massacre at Beijing），描述天安門事件●家庭：與妻育有1子1女資料來源：綜合外電'}"
      ]
     },
     "execution_count": 3,
     "metadata": {},
     "output_type": "execute_result"
    }
   ],
   "source": [
    "prompt = Prompt('Taiwan')\n",
    "\n",
    "input_dir = Path('data/raw')\n",
    "input_path = input_dir / 'example00.jsonl'\n",
    "test_data = [\n",
    "    orjson.loads(i)\n",
    "    for i in input_path.read_text().split('\\n')\n",
    "    if i != ''\n",
    "]\n",
    "\n",
    "print(\"number of data: \", len(test_data))\n",
    "test_data[0]"
   ]
  },
  {
   "cell_type": "markdown",
   "id": "09bcfc4b",
   "metadata": {},
   "source": [
    "# predict one instance"
   ]
  },
  {
   "cell_type": "code",
   "execution_count": 4,
   "id": "75a892d9-e682-461c-9840-ecf01aa89c0d",
   "metadata": {},
   "outputs": [
    {
     "data": {
      "text/plain": [
       "ClassificationResult(pred=0)"
      ]
     },
     "execution_count": 4,
     "metadata": {},
     "output_type": "execute_result"
    }
   ],
   "source": [
    "clf = ChatGPT(\n",
    "    prompt,\n",
    "    \"zero_shot\",\n",
    "    'gpt-3.5-turbo',\n",
    "    0.,  # temperature\n",
    "    test_data\n",
    ")\n",
    "clf.predict_instance(test_data[0]['news'])"
   ]
  },
  {
   "cell_type": "code",
   "execution_count": 5,
   "id": "f378977f-9058-4d97-bed1-7e0911505a22",
   "metadata": {},
   "outputs": [
    {
     "data": {
      "text/plain": [
       "ClassificationResultWithReason(pred=0, reason=\"The news is about the retirement of a foreign correspondent in China, which does not directly impact Taiwan's economics.\")"
      ]
     },
     "execution_count": 5,
     "metadata": {},
     "output_type": "execute_result"
    }
   ],
   "source": [
    "clf = ChatGPT(\n",
    "    prompt,\n",
    "    \"zero_shot_with_reason\",\n",
    "    'gpt-3.5-turbo',\n",
    "    0.,  # temperature\n",
    "    test_data\n",
    ")\n",
    "clf.predict_instance(test_data[0]['news'])"
   ]
  },
  {
   "cell_type": "code",
   "execution_count": 6,
   "id": "f86586d3",
   "metadata": {},
   "outputs": [
    {
     "data": {
      "text/plain": [
       "ClassificationResult(pred=1)"
      ]
     },
     "execution_count": 6,
     "metadata": {},
     "output_type": "execute_result"
    }
   ],
   "source": [
    "clf = ChatGPT(\n",
    "    prompt,\n",
    "    \"few_shot\",\n",
    "    'gpt-3.5-turbo',\n",
    "    0.,  # temperature\n",
    "    test_data\n",
    ")\n",
    "clf.predict_instance(test_data[0]['news'])"
   ]
  },
  {
   "cell_type": "code",
   "execution_count": 7,
   "id": "71f8c832",
   "metadata": {},
   "outputs": [
    {
     "data": {
      "text/plain": [
       "ClassificationResultWithReason(pred=1, reason=\"The news is about the retirement of a foreign correspondent in China and his personal experiences, which are not directly related to Taiwan's economics.\")"
      ]
     },
     "execution_count": 7,
     "metadata": {},
     "output_type": "execute_result"
    }
   ],
   "source": [
    "clf = ChatGPT(\n",
    "    prompt,\n",
    "    \"few_shot_with_reason\",\n",
    "    'gpt-3.5-turbo',\n",
    "    0.,  # temperature\n",
    "    test_data\n",
    ")\n",
    "clf.predict_instance(test_data[0]['news'])"
   ]
  },
  {
   "cell_type": "markdown",
   "id": "0a543dc3",
   "metadata": {},
   "source": [
    "# predict 90 instance"
   ]
  },
  {
   "cell_type": "code",
   "execution_count": 9,
   "id": "d5c4f161",
   "metadata": {},
   "outputs": [
    {
     "name": "stderr",
     "output_type": "stream",
     "text": [
      "100%|██████████| 90/90 [01:16<00:00,  1.17it/s]"
     ]
    },
    {
     "name": "stdout",
     "output_type": "stream",
     "text": [
      "              precision    recall  f1-score   support\n",
      "\n",
      "           0       0.54      0.91      0.68        45\n",
      "           1       0.71      0.22      0.34        45\n",
      "\n",
      "    accuracy                           0.57        90\n",
      "   macro avg       0.63      0.57      0.51        90\n",
      "weighted avg       0.63      0.57      0.51        90\n",
      "\n"
     ]
    },
    {
     "name": "stderr",
     "output_type": "stream",
     "text": [
      "\n"
     ]
    }
   ],
   "source": [
    "clf = ChatGPT(\n",
    "    prompt,\n",
    "    \"zero_shot\",  # strategy\n",
    "    'gpt-3.5-turbo',\n",
    "    0.,  # temperature\n",
    "    test_data\n",
    ")\n",
    "clf.predict()"
   ]
  },
  {
   "cell_type": "code",
   "execution_count": 9,
   "id": "740215b7",
   "metadata": {},
   "outputs": [
    {
     "name": "stderr",
     "output_type": "stream",
     "text": [
      "100%|██████████| 9/9 [06:17<00:00, 41.92s/it] "
     ]
    },
    {
     "name": "stdout",
     "output_type": "stream",
     "text": [
      "              precision    recall  f1-score   support\n",
      "\n",
      "           0       0.52      0.96      0.67        45\n",
      "           1       0.71      0.11      0.19        45\n",
      "\n",
      "    accuracy                           0.53        90\n",
      "   macro avg       0.62      0.53      0.43        90\n",
      "weighted avg       0.62      0.53      0.43        90\n",
      "\n"
     ]
    },
    {
     "name": "stderr",
     "output_type": "stream",
     "text": [
      "\n"
     ]
    }
   ],
   "source": [
    "clf = ChatGPT(\n",
    "    prompt,\n",
    "    \"zero_shot_with_reason\",  # strategy\n",
    "    'gpt-3.5-turbo',\n",
    "    0.,  # temperature\n",
    "    10,  # batch_size\n",
    "    test_data\n",
    ")\n",
    "clf.predict()"
   ]
  },
  {
   "cell_type": "code",
   "execution_count": 10,
   "id": "720e2133",
   "metadata": {},
   "outputs": [
    {
     "name": "stderr",
     "output_type": "stream",
     "text": [
      "100%|██████████| 90/90 [03:12<00:00,  2.14s/it]"
     ]
    },
    {
     "name": "stdout",
     "output_type": "stream",
     "text": [
      "              precision    recall  f1-score   support\n",
      "\n",
      "           0       0.58      0.93      0.71        45\n",
      "           1       0.82      0.31      0.45        45\n",
      "\n",
      "    accuracy                           0.62        90\n",
      "   macro avg       0.70      0.62      0.58        90\n",
      "weighted avg       0.70      0.62      0.58        90\n",
      "\n"
     ]
    },
    {
     "name": "stderr",
     "output_type": "stream",
     "text": [
      "\n"
     ]
    }
   ],
   "source": [
    "clf1 = ChatGPT(\n",
    "    prompt,\n",
    "    \"few_shot\",  # strategy\n",
    "    'gpt-3.5-turbo',\n",
    "    0.,  # temperature\n",
    "    test_data\n",
    ")\n",
    "clf1.predict()"
   ]
  },
  {
   "cell_type": "code",
   "execution_count": 12,
   "id": "05dfd6f1",
   "metadata": {},
   "outputs": [
    {
     "name": "stderr",
     "output_type": "stream",
     "text": [
      "100%|██████████| 90/90 [03:19<00:00,  2.22s/it]"
     ]
    },
    {
     "name": "stdout",
     "output_type": "stream",
     "text": [
      "              precision    recall  f1-score   support\n",
      "\n",
      "           0       0.65      0.89      0.75        45\n",
      "           1       0.82      0.51      0.63        45\n",
      "\n",
      "    accuracy                           0.70        90\n",
      "   macro avg       0.73      0.70      0.69        90\n",
      "weighted avg       0.73      0.70      0.69        90\n",
      "\n"
     ]
    },
    {
     "name": "stderr",
     "output_type": "stream",
     "text": [
      "\n"
     ]
    }
   ],
   "source": [
    "clf2 = ChatGPT(\n",
    "    prompt,\n",
    "    \"few_shot_with_reason\",  # strategy\n",
    "    'gpt-3.5-turbo',\n",
    "    0.,  # temperature\n",
    "    test_data\n",
    ")\n",
    "clf2.predict()"
   ]
  },
  {
   "cell_type": "markdown",
   "id": "55f52beb",
   "metadata": {},
   "source": [
    "# add more example to the few_shot prompt"
   ]
  },
  {
   "cell_type": "markdown",
   "id": "a61dc7b3",
   "metadata": {},
   "source": [
    "### wihout reasoning"
   ]
  },
  {
   "cell_type": "code",
   "execution_count": 6,
   "id": "79f51910",
   "metadata": {},
   "outputs": [
    {
     "name": "stderr",
     "output_type": "stream",
     "text": [
      "100%|██████████| 90/90 [05:33<00:00,  3.70s/it]"
     ]
    },
    {
     "name": "stdout",
     "output_type": "stream",
     "text": [
      "              precision    recall  f1-score   support\n",
      "\n",
      "           0       0.57      0.91      0.70        45\n",
      "           1       0.78      0.31      0.44        45\n",
      "\n",
      "    accuracy                           0.61        90\n",
      "   macro avg       0.67      0.61      0.57        90\n",
      "weighted avg       0.67      0.61      0.57        90\n",
      "\n"
     ]
    },
    {
     "name": "stderr",
     "output_type": "stream",
     "text": [
      "\n"
     ]
    }
   ],
   "source": [
    "prompt = Prompt('Taiwan', example_num=6)\n",
    "clf1 = ChatGPT(\n",
    "    prompt,\n",
    "    \"few_shot\",  # strategy\n",
    "    'gpt-3.5-turbo',\n",
    "    0.,  # temperature\n",
    "    test_data\n",
    ")\n",
    "clf1.predict()"
   ]
  },
  {
   "cell_type": "code",
   "execution_count": 5,
   "id": "fe683d27",
   "metadata": {},
   "outputs": [
    {
     "name": "stderr",
     "output_type": "stream",
     "text": [
      "100%|██████████| 90/90 [04:02<00:00,  2.69s/it]"
     ]
    },
    {
     "name": "stdout",
     "output_type": "stream",
     "text": [
      "              precision    recall  f1-score   support\n",
      "\n",
      "           0       0.50      0.98      0.66        45\n",
      "           1       0.50      0.02      0.04        45\n",
      "\n",
      "    accuracy                           0.50        90\n",
      "   macro avg       0.50      0.50      0.35        90\n",
      "weighted avg       0.50      0.50      0.35        90\n",
      "\n"
     ]
    },
    {
     "name": "stderr",
     "output_type": "stream",
     "text": [
      "\n"
     ]
    }
   ],
   "source": [
    "prompt = Prompt('Taiwan', example_num=8)\n",
    "clf1 = ChatGPT(\n",
    "    prompt,\n",
    "    \"few_shot\",  # strategy\n",
    "    'gpt-3.5-turbo',\n",
    "    0.,  # temperature\n",
    "    test_data\n",
    ")\n",
    "clf1.predict()"
   ]
  },
  {
   "cell_type": "markdown",
   "id": "11274f1d",
   "metadata": {},
   "source": [
    "### with reasoning"
   ]
  },
  {
   "cell_type": "code",
   "execution_count": 7,
   "id": "ecaf6d71",
   "metadata": {},
   "outputs": [
    {
     "name": "stderr",
     "output_type": "stream",
     "text": [
      "100%|██████████| 90/90 [04:18<00:00,  2.88s/it]"
     ]
    },
    {
     "name": "stdout",
     "output_type": "stream",
     "text": [
      "              precision    recall  f1-score   support\n",
      "\n",
      "           0       0.73      0.60      0.66        45\n",
      "           1       0.66      0.78      0.71        45\n",
      "\n",
      "    accuracy                           0.69        90\n",
      "   macro avg       0.70      0.69      0.69        90\n",
      "weighted avg       0.70      0.69      0.69        90\n",
      "\n"
     ]
    },
    {
     "name": "stderr",
     "output_type": "stream",
     "text": [
      "\n"
     ]
    }
   ],
   "source": [
    "prompt = Prompt('Taiwan', example_num=6)\n",
    "clf1 = ChatGPT(\n",
    "    prompt,\n",
    "    \"few_shot_with_reason\",  # strategy\n",
    "    'gpt-3.5-turbo',\n",
    "    0.,  # temperature\n",
    "    test_data\n",
    ")\n",
    "clf1.predict()"
   ]
  },
  {
   "cell_type": "code",
   "execution_count": 5,
   "id": "2710ea33",
   "metadata": {},
   "outputs": [
    {
     "name": "stderr",
     "output_type": "stream",
     "text": [
      "100%|██████████| 90/90 [04:11<00:00,  2.79s/it]"
     ]
    },
    {
     "name": "stdout",
     "output_type": "stream",
     "text": [
      "              precision    recall  f1-score   support\n",
      "\n",
      "           0       0.55      0.93      0.69        45\n",
      "           1       0.79      0.24      0.37        45\n",
      "\n",
      "    accuracy                           0.59        90\n",
      "   macro avg       0.67      0.59      0.53        90\n",
      "weighted avg       0.67      0.59      0.53        90\n",
      "\n"
     ]
    },
    {
     "name": "stderr",
     "output_type": "stream",
     "text": [
      "\n"
     ]
    }
   ],
   "source": [
    "prompt = Prompt('Taiwan', example_num=8)\n",
    "clf1 = ChatGPT(\n",
    "    prompt,\n",
    "    \"few_shot_with_reason\",  # strategy\n",
    "    'gpt-3.5-turbo',\n",
    "    0.,  # temperature\n",
    "    test_data\n",
    ")\n",
    "clf1.predict()"
   ]
  }
 ],
 "metadata": {
  "kernelspec": {
   "display_name": "Poetry",
   "language": "python",
   "name": "poetry-kernel"
  },
  "language_info": {
   "codemirror_mode": {
    "name": "ipython",
    "version": 3
   },
   "file_extension": ".py",
   "mimetype": "text/x-python",
   "name": "python",
   "nbconvert_exporter": "python",
   "pygments_lexer": "ipython3",
   "version": "3.11.5"
  }
 },
 "nbformat": 4,
 "nbformat_minor": 5
}
