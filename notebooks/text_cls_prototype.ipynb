{
 "cells": [
  {
   "cell_type": "code",
   "execution_count": 1,
   "metadata": {},
   "outputs": [],
   "source": [
    "import os, sys\n",
    "os.chdir('..')\n",
    "sys.path.append(os.path.abspath(f\"{os.getcwd()}\"))"
   ]
  },
  {
   "cell_type": "code",
   "execution_count": 5,
   "metadata": {},
   "outputs": [],
   "source": [
    "import orjson\n",
    "from pathlib import Path\n",
    "from tqdm import tqdm\n",
    "from sklearn.metrics import classification_report\n",
    "\n",
    "from script.chatgput_cls import chatgpt_cls"
   ]
  },
  {
   "cell_type": "code",
   "execution_count": 3,
   "metadata": {},
   "outputs": [
    {
     "data": {
      "text/plain": [
       "{'label': 1,\n",
       " 'news': '【大陸中心╱綜合外電報導】當20歲菲律賓青年佛羅克魯茲（Jaime FlorCruz）1971年到中國時，正值文化大革命動盪，集權封閉一如今日北韓。他沒料到因緣際會下，一待就是43年，在此結婚生子還當了記者，見證中國30年多來最重大事件，如六四天安門等，成為駐中國最久的外籍特派員。他昨退休，卸任美國有線電視新聞網（CNN）北京分社長，他感性地說，心情苦樂參半，駐中生涯「不虛此行」。1971年時為菲國學生領袖的佛羅克魯茲赴中國旅遊，獨裁總統馬可仕突圍捕異議人士，他上了黑名單、被迫流亡中國。1977年他進入北京大學念書，同屆的有現任總理李克強、涉貪落馬重慶市前市委書記薄熙來。他回憶，曾與薄一起修世界史，薄會用英文跟他攀聊，「當時就極富個人魅力與堅持己見」。佛羅克魯茲先後待過《時代》雜誌、CNN駐北京分社，見證中國大規模經濟與社會改革，報導兩岸關係、2008年四川地震等重大新聞。2012年佛羅克魯茲曾撰文談「台灣大選為何重要」。談到中國的改變，他認為現在民眾享有更多自由，但也存在環境污染、多數人缺乏「精神支柱」等問題。他說很幸運能在對的時間和地方目睹改變，但打趣稱：「絕對不會想念北京的霧霾。」●年齡：63歲（1951/04/05生於菲律賓）●身分：CNN北京分社長，昨退休●學歷：北京大學中國歷史學士●經歷：1980年《新聞周刊》記者1982年《時代》北京分社記者，1990至2000年任社長●著作：《北京大屠殺》（Massacre at Beijing），描述天安門事件●家庭：與妻育有1子1女資料來源：綜合外電'}"
      ]
     },
     "execution_count": 3,
     "metadata": {},
     "output_type": "execute_result"
    }
   ],
   "source": [
    "data = [\n",
    "    orjson.loads(i)\n",
    "    for i in Path('data/raw/example01.jsonl').read_text().split('\\n')[:-1]\n",
    "]\n",
    "data[0]"
   ]
  },
  {
   "cell_type": "code",
   "execution_count": 4,
   "metadata": {},
   "outputs": [
    {
     "name": "stderr",
     "output_type": "stream",
     "text": [
      " 13%|█▎        | 12/90 [00:21<02:59,  2.31s/it]Retrying langchain.chat_models.openai.ChatOpenAI.completion_with_retry.<locals>._completion_with_retry in 4.0 seconds as it raised Timeout: Request timed out: HTTPSConnectionPool(host='api.openai.com', port=443): Read timed out. (read timeout=120.0).\n",
      " 59%|█████▉    | 53/90 [03:49<01:55,  3.11s/it]\u001b[32m2023-11-18 10:33:15.617\u001b[0m | \u001b[1mINFO    \u001b[0m | \u001b[36mscript.chatgput_cls\u001b[0m:\u001b[36mchatgpt_cls\u001b[0m:\u001b[36m147\u001b[0m - \u001b[1mformatting error(JSONDecodeError), re-generate\u001b[0m\n",
      " 61%|██████    | 55/90 [03:53<01:31,  2.63s/it]\u001b[32m2023-11-18 10:33:21.615\u001b[0m | \u001b[1mINFO    \u001b[0m | \u001b[36mscript.chatgput_cls\u001b[0m:\u001b[36mchatgpt_cls\u001b[0m:\u001b[36m147\u001b[0m - \u001b[1mformatting error(JSONDecodeError), re-generate\u001b[0m\n",
      "100%|██████████| 90/90 [04:59<00:00,  3.33s/it]\n"
     ]
    }
   ],
   "source": [
    "res_list = []\n",
    "for i in tqdm(data):\n",
    "    res_list.append(chatgpt_cls(i[\"news\"]))"
   ]
  },
  {
   "cell_type": "code",
   "execution_count": 7,
   "metadata": {},
   "outputs": [
    {
     "data": {
      "text/plain": [
       "{'0': {'precision': 0.8787878787878788,\n",
       "  'recall': 0.6444444444444445,\n",
       "  'f1-score': 0.7435897435897436,\n",
       "  'support': 45.0},\n",
       " '1': {'precision': 0.7192982456140351,\n",
       "  'recall': 0.9111111111111111,\n",
       "  'f1-score': 0.803921568627451,\n",
       "  'support': 45.0},\n",
       " 'accuracy': 0.7777777777777778,\n",
       " 'macro avg': {'precision': 0.799043062200957,\n",
       "  'recall': 0.7777777777777778,\n",
       "  'f1-score': 0.7737556561085973,\n",
       "  'support': 90.0},\n",
       " 'weighted avg': {'precision': 0.7990430622009569,\n",
       "  'recall': 0.7777777777777778,\n",
       "  'f1-score': 0.7737556561085973,\n",
       "  'support': 90.0}}"
      ]
     },
     "execution_count": 7,
     "metadata": {},
     "output_type": "execute_result"
    }
   ],
   "source": [
    "classification_report([i[\"label\"] for i in data], res_list, output_dict = True)"
   ]
  }
 ],
 "metadata": {
  "kernelspec": {
   "display_name": "Poetry",
   "language": "python",
   "name": "poetry-kernel"
  },
  "language_info": {
   "codemirror_mode": {
    "name": "ipython",
    "version": 3
   },
   "file_extension": ".py",
   "mimetype": "text/x-python",
   "name": "python",
   "nbconvert_exporter": "python",
   "pygments_lexer": "ipython3",
   "version": "3.11.5"
  }
 },
 "nbformat": 4,
 "nbformat_minor": 2
}
