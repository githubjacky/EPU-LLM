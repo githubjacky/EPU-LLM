{
 "cells": [
  {
   "cell_type": "code",
   "execution_count": 1,
   "metadata": {},
   "outputs": [],
   "source": [
    "import os\n",
    "os.chdir('..')"
   ]
  },
  {
   "cell_type": "code",
   "execution_count": 2,
   "metadata": {},
   "outputs": [],
   "source": [
    "from langchain import PromptTemplate\n",
    "from src.models.prompt import Prompt\n",
    "from pathlib import Path"
   ]
  },
  {
   "cell_type": "code",
   "execution_count": 3,
   "metadata": {},
   "outputs": [],
   "source": [
    "system_template = \"\"\"\\\n",
    "    I am an economist working on constructing {country}'s Economic Policy Uncertainty Index (EPU index).\n",
    "My primary goal is to classify wheter a news should be excluded when constructing EPU index in {country}.\n",
    "There are two criteria I'm considering to exclude a news.\n",
    "\n",
    "Criterion1:\n",
    "The main idea of the news is either historical accounts or abstract subjective inferences, which won't impact {country}'s economics for sure.\n",
    "Hence, this kind of news should be excluded.\n",
    "Notice that you should access wheter the news is related to {country}'s enconomics by yourself, insead of relying on the conclusion of the news.\n",
    "\n",
    "Criterion2:\n",
    "There main idea of the news is not related with {country}.\n",
    "For example, the people or companies mentioned in the news have nothing to do with {country} or the events\n",
    "in the news don't actually happen within {country}. I will excluded the news as well.\n",
    "\n",
    "Help me complete the classification task identifying what type of news should be excluded.\n",
    "Notice that you can first justify wheter there is a person, company or event in news related to {country}. \n",
    "If there isn't any, it should be excluded with high probability.\n",
    "\"\"\"\n",
    "system_prompt_template = PromptTemplate.from_template(system_template)\n",
    "\n",
    "\n",
    "human_template = \"\"\"\\\n",
    "{correct_instructions}\n",
    "Question: Should the following article be excluded when constructing EPU index?\n",
    "\n",
    "{news}\n",
    "\n",
    "Output Instructions:\n",
    "{output_instructions}\n",
    "Besides, don't forget to escape a single quote in the reason section.\n",
    "\"\"\"\n",
    "human_prompt_template = PromptTemplate.from_template(human_template)\n",
    "\n",
    "human_prompt_template.save('prompt_template/human.json')\n",
    "system_prompt_template.save('prompt_template/system.json')"
   ]
  },
  {
   "cell_type": "code",
   "execution_count": 3,
   "metadata": {},
   "outputs": [
    {
     "name": "stderr",
     "output_type": "stream",
     "text": [
      "\u001b[32m2023-09-06 22:34:47.332\u001b[0m | \u001b[33m\u001b[1mWARNING \u001b[0m | \u001b[36msrc.models.prompt\u001b[0m:\u001b[36mreasoning\u001b[0m:\u001b[36m136\u001b[0m - \u001b[33m\u001b[1mincosistent reasoning, re-generate\u001b[0m\n",
      "\u001b[32m2023-09-06 22:34:56.439\u001b[0m | \u001b[33m\u001b[1mWARNING \u001b[0m | \u001b[36msrc.models.prompt\u001b[0m:\u001b[36mreasoning\u001b[0m:\u001b[36m136\u001b[0m - \u001b[33m\u001b[1mincosistent reasoning, re-generate\u001b[0m\n"
     ]
    }
   ],
   "source": [
    "prompt = Prompt()\n",
    "news_set, example = prompt.reasoning()"
   ]
  },
  {
   "cell_type": "code",
   "execution_count": 4,
   "metadata": {},
   "outputs": [
    {
     "data": {
      "text/plain": [
       "['澳洲央行昨日意外調高基準利率，隔夜拆款利率從原本3%，調高為3.25%，澳洲儲備銀行行長史蒂芬（Glenn Stevens）表示，澳洲經濟大幅緊縮的風險已明顯降低，為了讓經濟穩健成長，澳洲央行未來幾年將持續進行微調。巴克萊投資表示，澳洲與巴西、印度、印尼、台灣、韓國，是這一波金融風暴中，經濟提早反彈的國家，領先指標3月分，就出現反彈訊號，由於中國大陸原物料需求強勁，巴克萊預估，澳洲今明二年經濟成長率，可望達0.9%與2.5%。巴克萊投資預估，英國、印度、韓國三國，可望在明年第1季升息，台灣升息時間，可望落在第2季；美國、中國與歐盟則要等到明年第3季才會升息。',\n",
       " '千興為國內老牌不鏽鋼冷軋廠，廠區在台南麻豆，1972年成立，主力產品為300系冷軋不鏽鋼。資本額32.28億元，董事長及總經理都是葉碩堂，目前員工約100多人。受到不鏽鋼多年不景氣的影響，千興過去3年呈現虧損，今年上半年每股稅後虧損0.5元。（記者羅倩宜）',\n",
       " '儘管國際經濟情勢擾攘不安，MAZDA TAIWAN執行長朱梅君在接受記者訪問時仍樂觀預期今年國內車市仍可望比去年成長2成左右，但對明年第1、2季則持保守態度，認為仍須取決總統大選後的經濟面和國際經濟局勢能否轉穩。她表示，隨著全新Mazda5的即將上市，未來除將強化Zoom-Zoom駕馭至上精神，也將持續營造MAZDA的日式高質感、高品味形象，同時亦將更側重服務品質的提升。由於市場預測未來小型房車和小型SUV都有成長空間，因此她透露明年將考慮引進全新Mazda CX-5，也不排除國產化可能性。也因高競爭力新車的陸續加入，她誓言2015年後MAZDA總市占率將提升至6%。']"
      ]
     },
     "execution_count": 4,
     "metadata": {},
     "output_type": "execute_result"
    }
   ],
   "source": [
    "news_set"
   ]
  },
  {
   "cell_type": "code",
   "execution_count": 5,
   "metadata": {},
   "outputs": [
    {
     "data": {
      "text/plain": [
       "[{'pred': 1,\n",
       "  'reason': \"The news is about the Australian central bank raising interest rates, which is not directly related to Taiwan's economics.\"},\n",
       " {'pred': 0,\n",
       "  'reason': \"The news provides information about a Taiwanese stainless steel cold rolling factory, which is relevant to Taiwan's economy.\"},\n",
       " {'pred': 1,\n",
       "  'reason': 'The news is about the CEO of Mazda Taiwan expressing optimism about the domestic car market in Taiwan, which is subjective and does not provide concrete economic information for constructing EPU index.'}]"
      ]
     },
     "execution_count": 5,
     "metadata": {},
     "output_type": "execute_result"
    }
   ],
   "source": [
    "example"
   ]
  }
 ],
 "metadata": {
  "kernelspec": {
   "display_name": "Poetry",
   "language": "python",
   "name": "poetry-kernel"
  },
  "language_info": {
   "codemirror_mode": {
    "name": "ipython",
    "version": 3
   },
   "file_extension": ".py",
   "mimetype": "text/x-python",
   "name": "python",
   "nbconvert_exporter": "python",
   "pygments_lexer": "ipython3",
   "version": "3.11.5"
  },
  "orig_nbformat": 4
 },
 "nbformat": 4,
 "nbformat_minor": 2
}
