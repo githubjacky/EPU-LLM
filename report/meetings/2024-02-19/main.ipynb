{
 "cells": [
  {
   "cell_type": "code",
   "execution_count": 1,
   "metadata": {},
   "outputs": [],
   "source": [
    "import os\n",
    "os.chdir('../../../')"
   ]
  },
  {
   "cell_type": "code",
   "execution_count": 2,
   "metadata": {},
   "outputs": [],
   "source": [
    "from langchain.prompts import PromptTemplate"
   ]
  },
  {
   "cell_type": "markdown",
   "metadata": {},
   "source": [
    "## Test Fundamental Ability of LLM"
   ]
  },
  {
   "cell_type": "markdown",
   "metadata": {},
   "source": [
    "### Policy"
   ]
  },
  {
   "cell_type": "code",
   "execution_count": 3,
   "metadata": {},
   "outputs": [],
   "source": [
    "relations = [\n",
    "    'famous \"national policy\"',\n",
    "    'synonymous vocabularies which are nouns and related to \"policy\"',\n",
    "    '\"government occupations\" which are highly related to \"national policy\"',\n",
    "    '\"government agency\" which are highly related to \"national policy\"',\n",
    "    'synonymous vocabularies which are verbs and related to \"policy\"'\n",
    "]\n",
    "\n",
    "categorical_relations = [\n",
    "    'related to \"monetary policy\"',\n",
    "    'related to \"fiscal plicy\"',\n",
    "    'related to \"trade policy\"',\n",
    "    'related to \"exchange-rate policy\"',\n",
    "    'related to \"healthcare policy\"',\n",
    "    'related to \"national security policy\"',\n",
    "    'related to \"financial regulation policy\"'\n",
    "]"
   ]
  },
  {
   "cell_type": "code",
   "execution_count": 57,
   "metadata": {},
   "outputs": [
    {
     "name": "stdout",
     "output_type": "stream",
     "text": [
      "You are a Taiwanese helpful assistant that can list 20 related to \"healthcare policy\".\n",
      "\n",
      "\"You must consider the concept of Word Segmentation and output non-compound words, but rather simple and common words.\"\n",
      "\n",
      "Output Instructions:\n",
      "1. List in bullet points\n",
      "2. Output only in Traditional Chinese and no need of English Translation\n",
      "\n"
     ]
    }
   ],
   "source": [
    "template = \"\"\"\\\n",
    "You are a {nationality} helpful assistant that can list {n_items} {relation}.\n",
    "\n",
    "\"You must consider the concept of Word Segmentation and output non-compound words, but rather simple and common words.\"\n",
    "\n",
    "Output Instructions:\n",
    "1. List in bullet points\n",
    "{language_instructions}\n",
    "\"\"\"\n",
    "print(PromptTemplate.from_template(template).format(\n",
    "    relation              = categorical_relations[4],\n",
    "    nationality           = 'Taiwanese',\n",
    "    n_items               = 20,\n",
    "    language_instructions = '2. Output only in Traditional Chinese and no need of English Translation',\n",
    "))"
   ]
  },
  {
   "cell_type": "markdown",
   "metadata": {},
   "source": [
    "### Uncertainty"
   ]
  },
  {
   "cell_type": "code",
   "execution_count": 42,
   "metadata": {},
   "outputs": [
    {
     "name": "stdout",
     "output_type": "stream",
     "text": [
      "You are a Taiwanese helpful assistant that can list 20 the most common vocabularies describing economic-relevant \"uncertainty\".\n",
      "\n",
      "\"You must consider the concept of Word Segmentation and output non-compound words, but rather simple and common words.\"\n",
      "\n",
      "Output Instructions:\n",
      "1. List in bullet points\n",
      "2. Output only in Traditional Chinese and no need of English Translation\n",
      "\n"
     ]
    }
   ],
   "source": [
    "template = \"\"\"\\\n",
    "You are a {nationality} helpful assistant that can list {n_items} the most common vocabularies describing economic-relevant \"uncertainty\".\n",
    "\n",
    "\"You must consider the concept of Word Segmentation and output non-compound words, but rather simple and common words.\"\n",
    "\n",
    "Output Instructions:\n",
    "1. List in bullet points\n",
    "{language_instructions}\n",
    "\"\"\"\n",
    "print(PromptTemplate.from_template(template).format(\n",
    "    nationality  = 'Taiwanese',\n",
    "    n_items      = 20,\n",
    "    language_instructions = '2. Output only in Traditional Chinese and no need of English Translation'\n",
    "))"
   ]
  },
  {
   "cell_type": "markdown",
   "metadata": {},
   "source": [
    "## formate the Bard(Gemini Pro, Ultra) output"
   ]
  },
  {
   "cell_type": "code",
   "execution_count": 23,
   "metadata": {},
   "outputs": [
    {
     "name": "stdout",
     "output_type": "stream",
     "text": [
      "變動\n",
      "不穩定\n",
      "風險\n",
      "緊張\n",
      "不平衡\n",
      "沒保障\n",
      "難預測\n",
      "不透明\n",
      "擔憂\n",
      "觀望\n",
      "迷茫\n",
      "動盪\n",
      "混亂\n",
      "危機\n",
      "威脅\n",
      "挑戰\n",
      "壓力\n",
      "顧慮\n",
      "麻煩\n"
     ]
    }
   ],
   "source": [
    "a = \"\"\"\\\n",
    "變動 (biàn dòng) - Fluctuation\n",
    "不穩定 (bù wěn dìng) - Instability\n",
    "風險 (fēng xiǎn) - Risk\n",
    "緊張 (jīn zhāng) - Tension\n",
    "不平衡 (bù píng héng) - Imbalance\n",
    "沒保障 (méi bǎo zhàng) - Lack of security\n",
    "難預測 (nán yù cè) - Unpredictable\n",
    "不透明 (bù tóu míng) - Opaque\n",
    "擔憂 (dān yōu) - Worry\n",
    "觀望 (guān wàng) - Wait-and-see\n",
    "迷茫 (mí máng) - Uncertain\n",
    "動盪 (dòng dàng) - Volatility\n",
    "混亂 (hùn luàn) - Chaos\n",
    "危機 (jī wēi) - Crisis\n",
    "威脅 (wēi xié) - Threat\n",
    "挑戰 (tiǎo zhàn) - Challenge\n",
    "壓力 (yà lì) - Pressure\n",
    "顧慮 (gù lǜ) - Apprehension\n",
    "麻煩 (má fàn) - Trouble\\\n",
    "\"\"\"\n",
    "\n",
    "for i in [i.split('(')[0].strip() for i in a.split('\\n')]:\n",
    "    print(i)"
   ]
  }
 ],
 "metadata": {
  "kernelspec": {
   "display_name": "Poetry",
   "language": "python",
   "name": "poetry-kernel"
  },
  "language_info": {
   "codemirror_mode": {
    "name": "ipython",
    "version": 3
   },
   "file_extension": ".py",
   "mimetype": "text/x-python",
   "name": "python",
   "nbconvert_exporter": "python",
   "pygments_lexer": "ipython3",
   "version": "3.11.7"
  }
 },
 "nbformat": 4,
 "nbformat_minor": 2
}
