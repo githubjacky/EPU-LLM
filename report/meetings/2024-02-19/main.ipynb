{
 "cells": [
  {
   "cell_type": "code",
   "execution_count": 1,
   "metadata": {},
   "outputs": [],
   "source": [
    "import os\n",
    "os.chdir('../../../')"
   ]
  },
  {
   "cell_type": "code",
   "execution_count": 2,
   "metadata": {},
   "outputs": [],
   "source": [
    "from langchain.prompts import PromptTemplate"
   ]
  },
  {
   "cell_type": "markdown",
   "metadata": {},
   "source": [
    "## talent"
   ]
  },
  {
   "cell_type": "markdown",
   "metadata": {},
   "source": [
    "### Policy"
   ]
  },
  {
   "cell_type": "code",
   "execution_count": 33,
   "metadata": {},
   "outputs": [],
   "source": [
    "relations = [\n",
    "    'synonymous vocabularies which are nouns and related to \"policy\"',\n",
    "    '\"government occupations\" which are highly related to \"national policy\"',\n",
    "    '\"government agency\" which are highly related to \"national policy\"',\n",
    "    'synonymous vocabularies which are verbs and related to \"policy\"'\n",
    "]"
   ]
  },
  {
   "cell_type": "code",
   "execution_count": 45,
   "metadata": {},
   "outputs": [
    {
     "name": "stdout",
     "output_type": "stream",
     "text": [
      "You are a Taiwanese helpful assistant that can list 20 synonymous vocabularies which are verbs and related to \"policy\".\n",
      "\n",
      "\"You must consider the concept of Word Segmentation and output non-compound words, but rather simple and common words.\"\n",
      "\n",
      "Output Instructions:\n",
      "1. List in bullet points\n",
      "2. Output only in \"Traditional Chinese\" and no need of English Translation\n"
     ]
    }
   ],
   "source": [
    "template = \"\"\"\\\n",
    "You are a {nationality} helpful assistant that can list {n_items} {relation}.\n",
    "\n",
    "\"You must consider the concept of Word Segmentation and output non-compound words, but rather simple and common words.\"\n",
    "\n",
    "Output Instructions:\n",
    "1. List in bullet points\n",
    "{language_instructions}\\\n",
    "\"\"\"\n",
    "print(PromptTemplate.from_template(template).format(\n",
    "    relation              = relations[3],\n",
    "    nationality           = 'Taiwanese',\n",
    "    n_items               = 20,\n",
    "    language_instructions = '2. Output only in \"Traditional Chinese\" and no need of English Translation',\n",
    "))"
   ]
  },
  {
   "cell_type": "markdown",
   "metadata": {},
   "source": [
    "### Uncertainty"
   ]
  },
  {
   "cell_type": "code",
   "execution_count": 53,
   "metadata": {},
   "outputs": [
    {
     "name": "stdout",
     "output_type": "stream",
     "text": [
      "You are a Taiwanese helpful assistant that can list 20 the most common vocabularies describing economic-relevant \"uncertainty\".\n",
      "\n",
      "\"You must consider the concept of Word Segmentation and output non-compound words, but rather simple and common words.\"\n",
      "\n",
      "Output Instructions:\n",
      "1. List in bullet points\n",
      "2. Output only in \"Traditional Chinese\" and no need of English Translation\n"
     ]
    }
   ],
   "source": [
    "template = \"\"\"\\\n",
    "You are a {nationality} helpful assistant that can list {n_items} the most common vocabularies describing economic-relevant \"uncertainty\".\n",
    "\n",
    "\"You must consider the concept of Word Segmentation and output non-compound words, but rather simple and common words.\"\n",
    "\n",
    "Output Instructions:\n",
    "1. List in bullet points\n",
    "{language_instructions}\\\n",
    "\"\"\"\n",
    "print(PromptTemplate.from_template(template).format(\n",
    "    nationality  = 'Taiwanese',\n",
    "    n_items      = 20,\n",
    "    language_instructions = '2. Output only in \"Traditional Chinese\" and no need of English Translation'\n",
    "))"
   ]
  },
  {
   "cell_type": "markdown",
   "metadata": {},
   "source": [
    "## newspaper corpora"
   ]
  },
  {
   "cell_type": "code",
   "execution_count": null,
   "metadata": {},
   "outputs": [],
   "source": []
  },
  {
   "cell_type": "markdown",
   "metadata": {},
   "source": [
    "## definition"
   ]
  },
  {
   "cell_type": "code",
   "execution_count": 56,
   "metadata": {},
   "outputs": [
    {
     "name": "stdout",
     "output_type": "stream",
     "text": [
      "You are building indices of policy-related economic uncertainty based on Taiwan's newspaper coverage frequency, with the aim to capture uncertainty about who will make economic policy decisions, what economic policy actions will be undertaken and when, and the economic effects of policy actions (or inaction) – including uncertainties related to the economic ramifications of “non-economic” policy matters, e.g., military actions.\n",
      "\n",
      "The process of building the index is as follows:\n",
      "1. Define three sets of keywords, E, P, U, containing keywords corresponding to the economy, policy, and uncertainty, respectively.\n",
      "\n",
      "2. Given a collection of news articles x, an article is considered related to policy-related economic uncertainty if it \"meets the following three criteria simultaneously\":\n",
      "- Contains a word belonging to the E set\n",
      "- Contains a word belonging to the P set\n",
      "- Contains a word belonging to the U set\n",
      "\n",
      "3. The index is calculated as the number of news articles related to policy-related economic uncertainty divided by the total number of news articles in x. \n",
      "ewline\n",
      "\n",
      "\"You must consider the concept of Word Segmentation and output non-compound words, but rather simple and common words.\"\n",
      "\n",
      "Your task is to \"define and list 20 keywords in bullet points for each E, P, U set\". \n",
      "\n",
      "Output Instructions:\n",
      "1. List in bullet points\n",
      "2. Output only in \"Traditional Chinese\" and no need of English Translation\n"
     ]
    }
   ],
   "source": [
    "template = \"\"\"\\\n",
    "You are building indices of policy-related economic uncertainty based on {country} newspaper coverage frequency, \\\n",
    "with the aim to capture uncertainty about who will make economic policy decisions, \\\n",
    "what economic policy actions will be undertaken and when, \\\n",
    "and the economic effects of policy actions (or inaction) – including \\\n",
    "uncertainties related to the economic ramifications of “non-economic” policy matters, e.g., military actions.\n",
    "\n",
    "The process of building the index is as follows:\n",
    "1. Define three sets of keywords, E, P, U, containing keywords corresponding to the \\\n",
    "economy, policy, and uncertainty, respectively.\n",
    "\n",
    "2. Given a collection of news articles x, an article is considered related to \\\n",
    "policy-related economic uncertainty if it \"meets the following three criteria simultaneously\":\n",
    "- Contains a word belonging to the E set\n",
    "- Contains a word belonging to the P set\n",
    "- Contains a word belonging to the U set\n",
    "\n",
    "3. The index is calculated as the number of news articles related to \\\n",
    "policy-related economic uncertainty divided by the total number of news articles in x.\n",
    "\n",
    "\"You must consider the concept of Word Segmentation and output non-compound words, but rather simple and common words.\"\n",
    "\n",
    "Your task is to \"define and list {n_items} keywords in bullet points for each E, P, U set\". \n",
    "\n",
    "Output Instructions:\n",
    "1. List in bullet points\n",
    "{language_instructions}\\\n",
    "\"\"\"\n",
    "print(PromptTemplate.from_template(template).format(\n",
    "    country  = 'Taiwan\\'s',\n",
    "    n_items      = 20,\n",
    "    language_instructions = '2. Output only in \"Traditional Chinese\" and no need of English Translation'\n",
    "))"
   ]
  },
  {
   "cell_type": "markdown",
   "metadata": {},
   "source": [
    "## definition with SC"
   ]
  },
  {
   "cell_type": "code",
   "execution_count": 58,
   "metadata": {},
   "outputs": [
    {
     "name": "stdout",
     "output_type": "stream",
     "text": [
      "You are building indices of policy-related economic uncertainty based on Taiwan's newspaper coverage frequency, with the aim to capture uncertainty about who will make economic policy decisions, what economic policy actions will be undertaken and when, and the economic effects of policy actions (or inaction) – including uncertainties related to the economic ramifications of “non-economic” policy matters, e.g., military actions.\n",
      "\n",
      "The process of building the index is as follows:\n",
      "1. Define three sets of keywords, E, P, U, containing keywords corresponding to the economy, policy, and uncertainty, respectively.\n",
      "\n",
      "2. Given a collection of news articles x, an article is considered related to policy-related economic uncertainty if it \"meets the following three criteria simultaneously\":\n",
      "- Contains a word belonging to the E set\n",
      "- Contains a word belonging to the P set\n",
      "- Contains a word belonging to the U set\n",
      "\n",
      "3. The index is calculated as the number of news articles related to policy-related economic uncertainty divided by the total number of news articles in x. \n",
      "ewline\n",
      "\n",
      "\"You must consider the concept of Word Segmentation and output non-compound words, but rather simple and common words.\"\n",
      "\n",
      "Please proceed with the following tasks step by step.\n",
      "\n",
      "1. \"Define and list 20 keywords in bullet points for each E, P, U set\"\n",
      "\n",
      "2. Provide an example of a news article, including its title and content, which is related to policy-related economic uncertainty\n",
      "\n",
      "3. Identify a word from the article in task 2 that belongs to the set defined in task 1 as E\n",
      "\n",
      "4. Identify a word from the article in task 2 that belongs to the set defined in task 1 as P\n",
      "\n",
      "5. Identify a word from the article in task 2 that belongs to the set defined in task 1 as U\n",
      "\n",
      "\"Warning: The words listed in tasks 3, 4, and 5 must be consistent with those you defined in task 1; do not list words that you did not define in the E, P, U sets in task 1.\"\n",
      "\n",
      "Output Instructions:\n",
      "1. List in bullet points\n",
      "2. Output only in \"Traditional Chinese\" and no need of English Translation\n"
     ]
    }
   ],
   "source": [
    "template = \"\"\"\\\n",
    "You are building indices of policy-related economic uncertainty based on {country} newspaper coverage frequency, \\\n",
    "with the aim to capture uncertainty about who will make economic policy decisions, \\\n",
    "what economic policy actions will be undertaken and when, \\\n",
    "and the economic effects of policy actions (or inaction) – including \\\n",
    "uncertainties related to the economic ramifications of “non-economic” policy matters, e.g., military actions.\n",
    "\n",
    "The process of building the index is as follows:\n",
    "1. Define three sets of keywords, E, P, U, containing keywords corresponding to the \\\n",
    "economy, policy, and uncertainty, respectively.\n",
    "\n",
    "2. Given a collection of news articles x, an article is considered related to \\\n",
    "policy-related economic uncertainty if it \"meets the following three criteria simultaneously\":\n",
    "- Contains a word belonging to the E set\n",
    "- Contains a word belonging to the P set\n",
    "- Contains a word belonging to the U set\n",
    "\n",
    "3. The index is calculated as the number of news articles related to \\\n",
    "policy-related economic uncertainty divided by the total number of news articles in x. \\newline\n",
    "\n",
    "\"You must consider the concept of Word Segmentation and output non-compound words, but rather simple and common words.\"\n",
    "\n",
    "Please proceed with the following tasks step by step.\n",
    "\n",
    "1. \"Define and list {n_items} keywords in bullet points for each E, P, U set\"\n",
    "\n",
    "2. Provide an example of a news article, including its title and content, which is related to policy-related economic uncertainty\n",
    "\n",
    "3. Identify a word from the article in task 2 that belongs to the set defined in task 1 as E\n",
    "\n",
    "4. Identify a word from the article in task 2 that belongs to the set defined in task 1 as P\n",
    "\n",
    "5. Identify a word from the article in task 2 that belongs to the set defined in task 1 as U\n",
    "\n",
    "\"Warning: The words listed in tasks 3, 4, and 5 must be consistent with those you defined in task 1; \\\n",
    "do not list words that you did not define in the E, P, U sets in task 1.\"\n",
    "\n",
    "Output Instructions:\n",
    "1. List in bullet points\n",
    "{language_instructions}\\\n",
    "\"\"\"\n",
    "print(PromptTemplate.from_template(template).format(\n",
    "    country  = 'Taiwan\\'s',\n",
    "    n_items      = 20,\n",
    "    language_instructions = '2. Output only in \"Traditional Chinese\" and no need of English Translation'\n",
    "))"
   ]
  },
  {
   "cell_type": "markdown",
   "metadata": {},
   "source": [
    "## formate the Bard(Gemini Pro, Ultra) output"
   ]
  },
  {
   "cell_type": "code",
   "execution_count": 23,
   "metadata": {},
   "outputs": [
    {
     "name": "stdout",
     "output_type": "stream",
     "text": [
      "變動\n",
      "不穩定\n",
      "風險\n",
      "緊張\n",
      "不平衡\n",
      "沒保障\n",
      "難預測\n",
      "不透明\n",
      "擔憂\n",
      "觀望\n",
      "迷茫\n",
      "動盪\n",
      "混亂\n",
      "危機\n",
      "威脅\n",
      "挑戰\n",
      "壓力\n",
      "顧慮\n",
      "麻煩\n"
     ]
    }
   ],
   "source": [
    "a = \"\"\"\\\n",
    "變動 (biàn dòng) - Fluctuation\n",
    "不穩定 (bù wěn dìng) - Instability\n",
    "風險 (fēng xiǎn) - Risk\n",
    "緊張 (jīn zhāng) - Tension\n",
    "不平衡 (bù píng héng) - Imbalance\n",
    "沒保障 (méi bǎo zhàng) - Lack of security\n",
    "難預測 (nán yù cè) - Unpredictable\n",
    "不透明 (bù tóu míng) - Opaque\n",
    "擔憂 (dān yōu) - Worry\n",
    "觀望 (guān wàng) - Wait-and-see\n",
    "迷茫 (mí máng) - Uncertain\n",
    "動盪 (dòng dàng) - Volatility\n",
    "混亂 (hùn luàn) - Chaos\n",
    "危機 (jī wēi) - Crisis\n",
    "威脅 (wēi xié) - Threat\n",
    "挑戰 (tiǎo zhàn) - Challenge\n",
    "壓力 (yà lì) - Pressure\n",
    "顧慮 (gù lǜ) - Apprehension\n",
    "麻煩 (má fàn) - Trouble\\\n",
    "\"\"\"\n",
    "\n",
    "for i in [i.split('(')[0].strip() for i in a.split('\\n')]:\n",
    "    print(i)"
   ]
  }
 ],
 "metadata": {
  "kernelspec": {
   "display_name": "Poetry",
   "language": "python",
   "name": "poetry-kernel"
  },
  "language_info": {
   "codemirror_mode": {
    "name": "ipython",
    "version": 3
   },
   "file_extension": ".py",
   "mimetype": "text/x-python",
   "name": "python",
   "nbconvert_exporter": "python",
   "pygments_lexer": "ipython3",
   "version": "3.11.7"
  }
 },
 "nbformat": 4,
 "nbformat_minor": 2
}
